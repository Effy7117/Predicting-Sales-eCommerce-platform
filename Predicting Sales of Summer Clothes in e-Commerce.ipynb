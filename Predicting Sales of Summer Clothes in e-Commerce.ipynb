{
 "cells": [
  {
   "attachments": {},
   "cell_type": "markdown",
   "metadata": {
    "papermill": {
     "duration": 0.079298,
     "end_time": "2020-09-12T06:16:24.590563",
     "exception": false,
     "start_time": "2020-09-12T06:16:24.511265",
     "status": "completed"
    },
    "tags": []
   },
   "source": [
    "# Predictng sales of Summer clothes in e-Commerce platform - Wish\n",
    "\n",
    "Wish is an American online e-commerce platform for transactions between sellers and buyers founded in 2010.  The platform personalizes the shopping experience visually for customers rather than relying only on search bar format. It allows sellers to list their products on Wish and sell directly to consumers.\n",
    "\n",
    "* Due to the non-tactile nature of the online products, to attract customers and promote their sales, e-commerce vendors rely more on an alternative group of presented visual and textual information such as product images and titles.\n",
    "\n",
    "\n",
    "* This project identifies product listing strategies, primarily visual and textual presentation, that can help retailers to raise their product sales. The task is to *predict the number of units sold* of the products. The problem has been solved through a regression model. \n",
    "\n",
    "\n",
    "* Sales of summer clothes in E-commerce Wish - Dataset contains product listings as well as products ratings and sales performance collected from Kaggle. With this, the correlations and patterns regarding the success of a product and the various components can be studied.\n",
    "\n",
    "\n",
    "## Contents\n",
    "\n",
    "* [Importing Data](#import)\n",
    "* [Data Preprocessing](#preprocess)\n",
    "* [Correlation between features](#correlation)\n",
    "* [Feature Selection](#selection)\n",
    "* [Data Analysis](#analysis)\n",
    "* [Regression Models](#regmodel)\n",
    "* [GridSearchCV](#gridsearch)\n",
    "* [Final Model](#finalmodel)\n",
    "* [Prediction Testing](#testing)"
   ]
  },
  {
   "cell_type": "markdown",
   "metadata": {
    "papermill": {
     "duration": 0.074096,
     "end_time": "2020-09-12T06:16:24.741382",
     "exception": false,
     "start_time": "2020-09-12T06:16:24.667286",
     "status": "completed"
    },
    "tags": []
   },
   "source": [
    "<a id='import'></a>\n",
    "\n",
    "## Importing Data"
   ]
  },
  {
   "cell_type": "code",
   "execution_count": 1,
   "metadata": {
    "_cell_guid": "79c7e3d0-c299-4dcb-8224-4455121ee9b0",
    "_uuid": "d629ff2d2480ee46fbb7e2d37f6b5fab8052498a",
    "execution": {
     "iopub.execute_input": "2020-09-12T06:16:25.098271Z",
     "iopub.status.busy": "2020-09-12T06:16:25.097162Z",
     "iopub.status.idle": "2020-09-12T06:16:26.363947Z",
     "shell.execute_reply": "2020-09-12T06:16:26.363023Z"
    },
    "papermill": {
     "duration": 1.364158,
     "end_time": "2020-09-12T06:16:26.364096",
     "exception": false,
     "start_time": "2020-09-12T06:16:24.999938",
     "status": "completed"
    },
    "tags": []
   },
   "outputs": [],
   "source": [
    "# Basic \n",
    "import numpy as np\n",
    "import pandas as pd\n",
    "\n",
    "# Plotting\n",
    "import matplotlib.pyplot as plt\n",
    "%matplotlib inline\n",
    "import seaborn as sns\n",
    "\n",
    "import warnings\n",
    "warnings.filterwarnings('ignore')"
   ]
  },
  {
   "cell_type": "code",
   "execution_count": 2,
   "metadata": {
    "execution": {
     "iopub.execute_input": "2020-09-12T06:16:26.529750Z",
     "iopub.status.busy": "2020-09-12T06:16:26.528846Z",
     "iopub.status.idle": "2020-09-12T06:16:26.696217Z",
     "shell.execute_reply": "2020-09-12T06:16:26.697153Z"
    },
    "papermill": {
     "duration": 0.25501,
     "end_time": "2020-09-12T06:16:26.697380",
     "exception": false,
     "start_time": "2020-09-12T06:16:26.442370",
     "status": "completed"
    },
    "tags": []
   },
   "outputs": [
    {
     "data": {
      "text/html": [
       "<div>\n",
       "<style scoped>\n",
       "    .dataframe tbody tr th:only-of-type {\n",
       "        vertical-align: middle;\n",
       "    }\n",
       "\n",
       "    .dataframe tbody tr th {\n",
       "        vertical-align: top;\n",
       "    }\n",
       "\n",
       "    .dataframe thead th {\n",
       "        text-align: right;\n",
       "    }\n",
       "</style>\n",
       "<table border=\"1\" class=\"dataframe\">\n",
       "  <thead>\n",
       "    <tr style=\"text-align: right;\">\n",
       "      <th></th>\n",
       "      <th>title</th>\n",
       "      <th>title_orig</th>\n",
       "      <th>price</th>\n",
       "      <th>retail_price</th>\n",
       "      <th>currency_buyer</th>\n",
       "      <th>units_sold</th>\n",
       "      <th>uses_ad_boosts</th>\n",
       "      <th>rating</th>\n",
       "      <th>rating_count</th>\n",
       "      <th>rating_five_count</th>\n",
       "      <th>...</th>\n",
       "      <th>merchant_rating_count</th>\n",
       "      <th>merchant_rating</th>\n",
       "      <th>merchant_id</th>\n",
       "      <th>merchant_has_profile_picture</th>\n",
       "      <th>merchant_profile_picture</th>\n",
       "      <th>product_url</th>\n",
       "      <th>product_picture</th>\n",
       "      <th>product_id</th>\n",
       "      <th>theme</th>\n",
       "      <th>crawl_month</th>\n",
       "    </tr>\n",
       "  </thead>\n",
       "  <tbody>\n",
       "    <tr>\n",
       "      <th>0</th>\n",
       "      <td>2020 Summer Vintage Flamingo Print  Pajamas Se...</td>\n",
       "      <td>2020 Summer Vintage Flamingo Print  Pajamas Se...</td>\n",
       "      <td>16.0</td>\n",
       "      <td>14</td>\n",
       "      <td>EUR</td>\n",
       "      <td>100</td>\n",
       "      <td>0</td>\n",
       "      <td>3.76</td>\n",
       "      <td>54</td>\n",
       "      <td>26.0</td>\n",
       "      <td>...</td>\n",
       "      <td>568</td>\n",
       "      <td>4.128521</td>\n",
       "      <td>595097d6a26f6e070cb878d1</td>\n",
       "      <td>0</td>\n",
       "      <td>NaN</td>\n",
       "      <td>https://www.wish.com/c/5e9ae51d43d6a96e303acdb0</td>\n",
       "      <td>https://contestimg.wish.com/api/webimage/5e9ae...</td>\n",
       "      <td>5e9ae51d43d6a96e303acdb0</td>\n",
       "      <td>summer</td>\n",
       "      <td>2020-08</td>\n",
       "    </tr>\n",
       "  </tbody>\n",
       "</table>\n",
       "<p>1 rows × 43 columns</p>\n",
       "</div>"
      ],
      "text/plain": [
       "                                               title  \\\n",
       "0  2020 Summer Vintage Flamingo Print  Pajamas Se...   \n",
       "\n",
       "                                          title_orig  price  retail_price  \\\n",
       "0  2020 Summer Vintage Flamingo Print  Pajamas Se...   16.0            14   \n",
       "\n",
       "  currency_buyer  units_sold  uses_ad_boosts  rating  rating_count  \\\n",
       "0            EUR         100               0    3.76            54   \n",
       "\n",
       "   rating_five_count  ...  merchant_rating_count  merchant_rating  \\\n",
       "0               26.0  ...                    568         4.128521   \n",
       "\n",
       "                merchant_id  merchant_has_profile_picture  \\\n",
       "0  595097d6a26f6e070cb878d1                             0   \n",
       "\n",
       "   merchant_profile_picture                                      product_url  \\\n",
       "0                       NaN  https://www.wish.com/c/5e9ae51d43d6a96e303acdb0   \n",
       "\n",
       "                                     product_picture  \\\n",
       "0  https://contestimg.wish.com/api/webimage/5e9ae...   \n",
       "\n",
       "                 product_id   theme crawl_month  \n",
       "0  5e9ae51d43d6a96e303acdb0  summer     2020-08  \n",
       "\n",
       "[1 rows x 43 columns]"
      ]
     },
     "execution_count": 2,
     "metadata": {},
     "output_type": "execute_result"
    }
   ],
   "source": [
    "sales = pd.read_csv('summer-products-with-rating-and-performance_2020-08.csv')\n",
    "sales.head(1)"
   ]
  },
  {
   "cell_type": "markdown",
   "metadata": {
    "papermill": {
     "duration": 0.089972,
     "end_time": "2020-09-12T06:16:26.874039",
     "exception": false,
     "start_time": "2020-09-12T06:16:26.784067",
     "status": "completed"
    },
    "tags": []
   },
   "source": [
    "<a id='preprocess'></a>\n",
    "\n",
    "## Data Preprocessing"
   ]
  },
  {
   "cell_type": "markdown",
   "metadata": {
    "papermill": {
     "duration": 0.090957,
     "end_time": "2020-09-12T06:16:27.061594",
     "exception": false,
     "start_time": "2020-09-12T06:16:26.970637",
     "status": "completed"
    },
    "tags": []
   },
   "source": [
    "* Data Preprocessing is a key step to making models that can predict/classify depending on the dataset and the question aim to be answered. \n",
    "\n",
    "\n",
    "* At some level, this requires to be aware of the background of data and the question to be answered. \n",
    "\n",
    "\n",
    "* Below are a few steps that are used at the Data Preprocessing stage. \n",
    "\n",
    "1. [Removing the null values](#1)\n",
    "2. [Transform categorical variables](#2)\n",
    "3. [Removing the features that have 1 unique value](#3)\n",
    "4. [Engineer new feature](#4) \n",
    "5. [Remove unnecessary features](#5)"
   ]
  },
  {
   "cell_type": "code",
   "execution_count": 3,
   "metadata": {
    "execution": {
     "iopub.execute_input": "2020-09-12T06:16:27.227110Z",
     "iopub.status.busy": "2020-09-12T06:16:27.226299Z",
     "iopub.status.idle": "2020-09-12T06:16:27.251099Z",
     "shell.execute_reply": "2020-09-12T06:16:27.250175Z"
    },
    "papermill": {
     "duration": 0.111979,
     "end_time": "2020-09-12T06:16:27.251253",
     "exception": false,
     "start_time": "2020-09-12T06:16:27.139274",
     "status": "completed"
    },
    "tags": []
   },
   "outputs": [
    {
     "name": "stdout",
     "output_type": "stream",
     "text": [
      "<class 'pandas.core.frame.DataFrame'>\n",
      "RangeIndex: 1573 entries, 0 to 1572\n",
      "Data columns (total 43 columns):\n",
      " #   Column                        Non-Null Count  Dtype  \n",
      "---  ------                        --------------  -----  \n",
      " 0   title                         1573 non-null   object \n",
      " 1   title_orig                    1573 non-null   object \n",
      " 2   price                         1573 non-null   float64\n",
      " 3   retail_price                  1573 non-null   int64  \n",
      " 4   currency_buyer                1573 non-null   object \n",
      " 5   units_sold                    1573 non-null   int64  \n",
      " 6   uses_ad_boosts                1573 non-null   int64  \n",
      " 7   rating                        1573 non-null   float64\n",
      " 8   rating_count                  1573 non-null   int64  \n",
      " 9   rating_five_count             1528 non-null   float64\n",
      " 10  rating_four_count             1528 non-null   float64\n",
      " 11  rating_three_count            1528 non-null   float64\n",
      " 12  rating_two_count              1528 non-null   float64\n",
      " 13  rating_one_count              1528 non-null   float64\n",
      " 14  badges_count                  1573 non-null   int64  \n",
      " 15  badge_local_product           1573 non-null   int64  \n",
      " 16  badge_product_quality         1573 non-null   int64  \n",
      " 17  badge_fast_shipping           1573 non-null   int64  \n",
      " 18  tags                          1573 non-null   object \n",
      " 19  product_color                 1532 non-null   object \n",
      " 20  product_variation_size_id     1559 non-null   object \n",
      " 21  product_variation_inventory   1573 non-null   int64  \n",
      " 22  shipping_option_name          1573 non-null   object \n",
      " 23  shipping_option_price         1573 non-null   int64  \n",
      " 24  shipping_is_express           1573 non-null   int64  \n",
      " 25  countries_shipped_to          1573 non-null   int64  \n",
      " 26  inventory_total               1573 non-null   int64  \n",
      " 27  has_urgency_banner            473 non-null    float64\n",
      " 28  urgency_text                  473 non-null    object \n",
      " 29  origin_country                1556 non-null   object \n",
      " 30  merchant_title                1573 non-null   object \n",
      " 31  merchant_name                 1569 non-null   object \n",
      " 32  merchant_info_subtitle        1572 non-null   object \n",
      " 33  merchant_rating_count         1573 non-null   int64  \n",
      " 34  merchant_rating               1573 non-null   float64\n",
      " 35  merchant_id                   1573 non-null   object \n",
      " 36  merchant_has_profile_picture  1573 non-null   int64  \n",
      " 37  merchant_profile_picture      226 non-null    object \n",
      " 38  product_url                   1573 non-null   object \n",
      " 39  product_picture               1573 non-null   object \n",
      " 40  product_id                    1573 non-null   object \n",
      " 41  theme                         1573 non-null   object \n",
      " 42  crawl_month                   1573 non-null   object \n",
      "dtypes: float64(9), int64(15), object(19)\n",
      "memory usage: 528.6+ KB\n"
     ]
    }
   ],
   "source": [
    "sales.info()"
   ]
  },
  {
   "cell_type": "markdown",
   "metadata": {
    "papermill": {
     "duration": 0.085467,
     "end_time": "2020-09-12T06:16:27.414834",
     "exception": false,
     "start_time": "2020-09-12T06:16:27.329367",
     "status": "completed"
    },
    "tags": []
   },
   "source": [
    "<a id='1'></a>\n",
    "\n",
    "### Removing the null values"
   ]
  },
  {
   "cell_type": "code",
   "execution_count": 4,
   "metadata": {
    "execution": {
     "iopub.execute_input": "2020-09-12T06:16:27.592284Z",
     "iopub.status.busy": "2020-09-12T06:16:27.591458Z",
     "iopub.status.idle": "2020-09-12T06:16:27.626762Z",
     "shell.execute_reply": "2020-09-12T06:16:27.627405Z"
    },
    "papermill": {
     "duration": 0.133381,
     "end_time": "2020-09-12T06:16:27.627607",
     "exception": false,
     "start_time": "2020-09-12T06:16:27.494226",
     "status": "completed"
    },
    "tags": []
   },
   "outputs": [
    {
     "data": {
      "text/plain": [
       "rating_five_count              45\n",
       "rating_four_count              45\n",
       "rating_three_count             45\n",
       "rating_two_count               45\n",
       "rating_one_count               45\n",
       "product_color                  41\n",
       "product_variation_size_id      14\n",
       "has_urgency_banner           1100\n",
       "urgency_text                 1100\n",
       "origin_country                 17\n",
       "merchant_name                   4\n",
       "merchant_info_subtitle          1\n",
       "merchant_profile_picture     1347\n",
       "dtype: int64"
      ]
     },
     "execution_count": 4,
     "metadata": {},
     "output_type": "execute_result"
    }
   ],
   "source": [
    "sales.isnull().sum()[sales.isnull().sum() !=0]"
   ]
  },
  {
   "cell_type": "code",
   "execution_count": 5,
   "metadata": {
    "execution": {
     "iopub.execute_input": "2020-09-12T06:16:27.960577Z",
     "iopub.status.busy": "2020-09-12T06:16:27.959731Z",
     "iopub.status.idle": "2020-09-12T06:16:27.967967Z",
     "shell.execute_reply": "2020-09-12T06:16:27.967176Z"
    },
    "papermill": {
     "duration": 0.096806,
     "end_time": "2020-09-12T06:16:27.968108",
     "exception": false,
     "start_time": "2020-09-12T06:16:27.871302",
     "status": "completed"
    },
    "tags": []
   },
   "outputs": [],
   "source": [
    "# Rating-count features with null values are replaced with 0 since the value could be null (for that rating) because no\n",
    "# customer rated it\n",
    "\n",
    "sales['rating_five_count'].replace(np.nan, 0, inplace=True)\n",
    "sales['rating_four_count'].replace(np.nan, 0, inplace=True)\n",
    "sales['rating_three_count'].replace(np.nan, 0, inplace=True)\n",
    "sales['rating_two_count'].replace(np.nan, 0, inplace=True)\n",
    "sales['rating_one_count'].replace(np.nan, 0, inplace=True)\n",
    "\n",
    "# 'has_urgency_banner' feature tells us whether or not the product has an urgency banner. \n",
    "# Therefore, this feature becomes a categorical variable:\n",
    "# 1 denoting it has an urgency text\n",
    "# 0 denoting it does not have an urgency text\n",
    "\n",
    "sales['has_urgency_banner'].replace(np.nan, 0, inplace=True)"
   ]
  },
  {
   "cell_type": "markdown",
   "metadata": {
    "papermill": {
     "duration": 0.078267,
     "end_time": "2020-09-12T06:16:28.126304",
     "exception": false,
     "start_time": "2020-09-12T06:16:28.048037",
     "status": "completed"
    },
    "tags": []
   },
   "source": [
    "<a id='2'></a>\n",
    "\n",
    "### Transform categorical variables"
   ]
  },
  {
   "cell_type": "code",
   "execution_count": 6,
   "metadata": {
    "execution": {
     "iopub.execute_input": "2020-09-12T06:16:28.459003Z",
     "iopub.status.busy": "2020-09-12T06:16:28.457545Z",
     "iopub.status.idle": "2020-09-12T06:16:28.464004Z",
     "shell.execute_reply": "2020-09-12T06:16:28.463151Z"
    },
    "papermill": {
     "duration": 0.093514,
     "end_time": "2020-09-12T06:16:28.464144",
     "exception": false,
     "start_time": "2020-09-12T06:16:28.370630",
     "status": "completed"
    },
    "scrolled": false,
    "tags": []
   },
   "outputs": [
    {
     "data": {
      "text/plain": [
       "title                        object\n",
       "title_orig                   object\n",
       "currency_buyer               object\n",
       "tags                         object\n",
       "product_color                object\n",
       "product_variation_size_id    object\n",
       "shipping_option_name         object\n",
       "urgency_text                 object\n",
       "origin_country               object\n",
       "merchant_title               object\n",
       "merchant_name                object\n",
       "merchant_info_subtitle       object\n",
       "merchant_id                  object\n",
       "merchant_profile_picture     object\n",
       "product_url                  object\n",
       "product_picture              object\n",
       "product_id                   object\n",
       "theme                        object\n",
       "crawl_month                  object\n",
       "dtype: object"
      ]
     },
     "execution_count": 6,
     "metadata": {},
     "output_type": "execute_result"
    }
   ],
   "source": [
    "sales.dtypes[sales.dtypes == 'object']"
   ]
  },
  {
   "cell_type": "markdown",
   "metadata": {
    "papermill": {
     "duration": 0.087991,
     "end_time": "2020-09-12T06:16:28.793447",
     "exception": false,
     "start_time": "2020-09-12T06:16:28.705456",
     "status": "completed"
    },
    "tags": []
   },
   "source": [
    "#### 1. Product Color\n",
    "\n",
    "* 'product_color', 'product_variation_size_id' and 'origin_country' will be used in this category to reduce the number of categories in each feature\n",
    "\n",
    "\n",
    "* segregate different colors into basic colors - 'black', 'white', 'blue', 'red', 'green', 'yellow', 'pink', 'grey', 'purple', 'orange', 'brown', 'beige' are the basic colors opted\n",
    "\n",
    "\n",
    "* replaced np.nan with 'others'\n",
    "\n",
    "\n",
    "* adding a category 'dual' for products that have two colors\n",
    "\n",
    "\n",
    "* adding a category 'others' for products that are multi-colored or have a print on them"
   ]
  },
  {
   "cell_type": "code",
   "execution_count": 7,
   "metadata": {
    "execution": {
     "iopub.execute_input": "2020-09-12T06:16:28.969028Z",
     "iopub.status.busy": "2020-09-12T06:16:28.967808Z",
     "iopub.status.idle": "2020-09-12T06:16:28.972491Z",
     "shell.execute_reply": "2020-09-12T06:16:28.973267Z"
    },
    "papermill": {
     "duration": 0.097703,
     "end_time": "2020-09-12T06:16:28.973433",
     "exception": false,
     "start_time": "2020-09-12T06:16:28.875730",
     "status": "completed"
    },
    "tags": []
   },
   "outputs": [
    {
     "data": {
      "text/plain": [
       "black               302\n",
       "white               254\n",
       "yellow              105\n",
       "blue                 99\n",
       "pink                 99\n",
       "red                  93\n",
       "green                90\n",
       "grey                 71\n",
       "purple               53\n",
       "armygreen            31\n",
       "navyblue             28\n",
       "winered              28\n",
       "orange               27\n",
       "multicolor           20\n",
       "beige                14\n",
       "lightblue            12\n",
       "khaki                12\n",
       "gray                 11\n",
       "white & green        10\n",
       "rosered               8\n",
       "skyblue               8\n",
       "brown                 7\n",
       "coffee                7\n",
       "darkblue              6\n",
       "floral                5\n",
       "rose                  5\n",
       "lightpink             4\n",
       "navy                  4\n",
       "leopard               4\n",
       "black & green         4\n",
       "fluorescentgreen      4\n",
       "Name: product_color, dtype: int64"
      ]
     },
     "execution_count": 7,
     "metadata": {},
     "output_type": "execute_result"
    }
   ],
   "source": [
    "count = sales['product_color'].value_counts()\n",
    "count[count>3]"
   ]
  },
  {
   "cell_type": "code",
   "execution_count": 8,
   "metadata": {
    "execution": {
     "iopub.execute_input": "2020-09-12T06:16:29.326541Z",
     "iopub.status.busy": "2020-09-12T06:16:29.325409Z",
     "iopub.status.idle": "2020-09-12T06:16:29.329093Z",
     "shell.execute_reply": "2020-09-12T06:16:29.328368Z"
    },
    "papermill": {
     "duration": 0.110201,
     "end_time": "2020-09-12T06:16:29.329226",
     "exception": false,
     "start_time": "2020-09-12T06:16:29.219025",
     "status": "completed"
    },
    "tags": []
   },
   "outputs": [],
   "source": [
    "sales['product_color'].replace('armygreen', 'green', inplace=True)\n",
    "sales['product_color'].replace('winered', 'red', inplace=True)\n",
    "sales['product_color'].replace('navyblue', 'blue', inplace=True)\n",
    "sales['product_color'].replace('lightblue', 'blue', inplace=True)\n",
    "sales['product_color'].replace('khaki', 'green', inplace=True)\n",
    "sales['product_color'].replace('gray', 'grey', inplace=True)\n",
    "sales['product_color'].replace('rosered', 'red', inplace=True)\n",
    "sales['product_color'].replace('skyblue', 'blue', inplace=True)\n",
    "sales['product_color'].replace('coffee', 'brown', inplace=True)\n",
    "sales['product_color'].replace('darkblue', 'blue', inplace=True)\n",
    "sales['product_color'].replace('rose', 'red', inplace=True)\n",
    "sales['product_color'].replace('fluorescentgreen', 'green', inplace=True)\n",
    "sales['product_color'].replace('navy', 'blue', inplace=True)\n",
    "sales['product_color'].replace('lightpink', 'pink', inplace=True)"
   ]
  },
  {
   "cell_type": "code",
   "execution_count": 9,
   "metadata": {
    "execution": {
     "iopub.execute_input": "2020-09-12T06:16:29.505997Z",
     "iopub.status.busy": "2020-09-12T06:16:29.505115Z",
     "iopub.status.idle": "2020-09-12T06:16:29.510122Z",
     "shell.execute_reply": "2020-09-12T06:16:29.509242Z"
    },
    "papermill": {
     "duration": 0.097862,
     "end_time": "2020-09-12T06:16:29.510258",
     "exception": false,
     "start_time": "2020-09-12T06:16:29.412396",
     "status": "completed"
    },
    "tags": []
   },
   "outputs": [
    {
     "data": {
      "text/plain": [
       "White            3\n",
       "lightgreen       3\n",
       "orange-red       3\n",
       "black & white    3\n",
       "Black            3\n",
       "camouflage       3\n",
       "Name: product_color, dtype: int64"
      ]
     },
     "execution_count": 9,
     "metadata": {},
     "output_type": "execute_result"
    }
   ],
   "source": [
    "count = sales['product_color'].value_counts()\n",
    "count[count==3]"
   ]
  },
  {
   "cell_type": "code",
   "execution_count": 10,
   "metadata": {
    "execution": {
     "iopub.execute_input": "2020-09-12T06:16:29.687107Z",
     "iopub.status.busy": "2020-09-12T06:16:29.686224Z",
     "iopub.status.idle": "2020-09-12T06:16:29.689249Z",
     "shell.execute_reply": "2020-09-12T06:16:29.689807Z"
    },
    "papermill": {
     "duration": 0.097094,
     "end_time": "2020-09-12T06:16:29.689973",
     "exception": false,
     "start_time": "2020-09-12T06:16:29.592879",
     "status": "completed"
    },
    "tags": []
   },
   "outputs": [],
   "source": [
    "sales['product_color'].replace('orange-red', 'red', inplace=True)\n",
    "sales['product_color'].replace('Black', 'black', inplace=True)\n",
    "sales['product_color'].replace('lightgreen', 'green', inplace=True)\n",
    "sales['product_color'].replace('White', 'white', inplace=True)"
   ]
  },
  {
   "cell_type": "code",
   "execution_count": 11,
   "metadata": {
    "execution": {
     "iopub.execute_input": "2020-09-12T06:16:29.870368Z",
     "iopub.status.busy": "2020-09-12T06:16:29.869303Z",
     "iopub.status.idle": "2020-09-12T06:16:29.874816Z",
     "shell.execute_reply": "2020-09-12T06:16:29.875790Z"
    },
    "papermill": {
     "duration": 0.104113,
     "end_time": "2020-09-12T06:16:29.876012",
     "exception": false,
     "start_time": "2020-09-12T06:16:29.771899",
     "status": "completed"
    },
    "tags": []
   },
   "outputs": [
    {
     "data": {
      "text/plain": [
       "pink & white      2\n",
       "coralred          2\n",
       "lightred          2\n",
       "Pink              2\n",
       "burgundy          2\n",
       "applegreen        2\n",
       "lakeblue          2\n",
       "camel             2\n",
       "pink & blue       2\n",
       "white & black     2\n",
       "watermelonred     2\n",
       "wine              2\n",
       "black & yellow    2\n",
       "black & blue      2\n",
       "apricot           2\n",
       "navy blue         2\n",
       "Army green        2\n",
       "coolblack         2\n",
       "pink & grey       2\n",
       "dustypink         2\n",
       "mintgreen         2\n",
       "whitefloral       2\n",
       "lightyellow       2\n",
       "silver            2\n",
       "pink & black      2\n",
       "Name: product_color, dtype: int64"
      ]
     },
     "execution_count": 11,
     "metadata": {},
     "output_type": "execute_result"
    }
   ],
   "source": [
    "count = sales['product_color'].value_counts()\n",
    "count[count==2]"
   ]
  },
  {
   "cell_type": "code",
   "execution_count": 12,
   "metadata": {
    "execution": {
     "iopub.execute_input": "2020-09-12T06:16:30.076391Z",
     "iopub.status.busy": "2020-09-12T06:16:30.075572Z",
     "iopub.status.idle": "2020-09-12T06:16:30.079932Z",
     "shell.execute_reply": "2020-09-12T06:16:30.079160Z"
    },
    "papermill": {
     "duration": 0.11863,
     "end_time": "2020-09-12T06:16:30.080067",
     "exception": false,
     "start_time": "2020-09-12T06:16:29.961437",
     "status": "completed"
    },
    "tags": []
   },
   "outputs": [],
   "source": [
    "sales['product_color'].replace('wine', 'red', inplace=True)\n",
    "sales['product_color'].replace('Pink', 'pink', inplace=True)\n",
    "sales['product_color'].replace('Army green', 'green', inplace=True)\n",
    "sales['product_color'].replace('coralred', 'red', inplace=True)\n",
    "sales['product_color'].replace('lightred', 'red', inplace=True)\n",
    "sales['product_color'].replace('apricot', 'orange', inplace=True)\n",
    "sales['product_color'].replace('navy blue', 'blue', inplace=True)\n",
    "sales['product_color'].replace('burgundy', 'red', inplace=True)\n",
    "sales['product_color'].replace('silver', 'grey', inplace=True)\n",
    "sales['product_color'].replace('camel', 'brown', inplace=True)\n",
    "sales['product_color'].replace('lakeblue', 'blue', inplace=True)\n",
    "sales['product_color'].replace('lightyellow', 'yellow', inplace=True)\n",
    "sales['product_color'].replace('watermelonred', 'red', inplace=True)\n",
    "sales['product_color'].replace('coolblack', 'black', inplace=True)\n",
    "sales['product_color'].replace('applegreen', 'green', inplace=True)\n",
    "sales['product_color'].replace('mintgreen', 'green', inplace=True)\n",
    "sales['product_color'].replace('dustypink', 'pink', inplace=True)"
   ]
  },
  {
   "cell_type": "code",
   "execution_count": 13,
   "metadata": {
    "execution": {
     "iopub.execute_input": "2020-09-12T06:16:30.259428Z",
     "iopub.status.busy": "2020-09-12T06:16:30.258088Z",
     "iopub.status.idle": "2020-09-12T06:16:30.262856Z",
     "shell.execute_reply": "2020-09-12T06:16:30.263482Z"
    },
    "papermill": {
     "duration": 0.100159,
     "end_time": "2020-09-12T06:16:30.263649",
     "exception": false,
     "start_time": "2020-09-12T06:16:30.163490",
     "status": "completed"
    },
    "tags": []
   },
   "outputs": [
    {
     "data": {
      "text/plain": [
       "white & red            1\n",
       "winered & yellow       1\n",
       "army green             1\n",
       "whitestripe            1\n",
       "rainbow                1\n",
       "lightgrey              1\n",
       "prussianblue           1\n",
       "navyblue & white       1\n",
       "rosegold               1\n",
       "ivory                  1\n",
       "offblack               1\n",
       "darkgreen              1\n",
       "blackwhite             1\n",
       "jasper                 1\n",
       "lightkhaki             1\n",
       "violet                 1\n",
       "gray & white           1\n",
       "brown & yellow         1\n",
       "wine red               1\n",
       "lightgray              1\n",
       "offwhite               1\n",
       "leopardprint           1\n",
       "red & blue             1\n",
       "blue & pink            1\n",
       "RED                    1\n",
       "orange & camouflage    1\n",
       "light green            1\n",
       "star                   1\n",
       "claret                 1\n",
       "tan                    1\n",
       "nude                   1\n",
       "Blue                   1\n",
       "lightpurple            1\n",
       "army                   1\n",
       "black & stripe         1\n",
       "Rose red               1\n",
       "greysnakeskinprint     1\n",
       "denimblue              1\n",
       "gold                   1\n",
       "Name: product_color, dtype: int64"
      ]
     },
     "execution_count": 13,
     "metadata": {},
     "output_type": "execute_result"
    }
   ],
   "source": [
    "count = sales['product_color'].value_counts()\n",
    "count[count==1]"
   ]
  },
  {
   "cell_type": "code",
   "execution_count": 14,
   "metadata": {
    "execution": {
     "iopub.execute_input": "2020-09-12T06:16:30.446320Z",
     "iopub.status.busy": "2020-09-12T06:16:30.445108Z",
     "iopub.status.idle": "2020-09-12T06:16:30.475495Z",
     "shell.execute_reply": "2020-09-12T06:16:30.476124Z"
    },
    "papermill": {
     "duration": 0.127602,
     "end_time": "2020-09-12T06:16:30.476309",
     "exception": false,
     "start_time": "2020-09-12T06:16:30.348707",
     "status": "completed"
    },
    "tags": []
   },
   "outputs": [],
   "source": [
    "sales['product_color'].replace('ivory', 'white', inplace=True)\n",
    "sales['product_color'].replace('lightkhaki', 'green', inplace=True)\n",
    "sales['product_color'].replace('lightgray', 'grey', inplace=True)\n",
    "sales['product_color'].replace('darkgreen', 'green', inplace=True)\n",
    "sales['product_color'].replace('RED', 'red', inplace=True)\n",
    "sales['product_color'].replace('tan', 'brown', inplace=True)\n",
    "sales['product_color'].replace('jasper', 'red', inplace=True)\n",
    "sales['product_color'].replace('nude', 'white', inplace=True)\n",
    "sales['product_color'].replace('army', 'brown', inplace=True)\n",
    "sales['product_color'].replace('light green', 'green', inplace=True)\n",
    "sales['product_color'].replace('offwhite', 'white', inplace=True)\n",
    "sales['product_color'].replace('Blue', 'blue', inplace=True)\n",
    "sales['product_color'].replace('denimblue', 'blue', inplace=True)\n",
    "sales['product_color'].replace('Rose red', 'red', inplace=True)\n",
    "sales['product_color'].replace('lightpurple', 'purple', inplace=True)\n",
    "sales['product_color'].replace('prussianblue', 'blue', inplace=True)\n",
    "sales['product_color'].replace('offblack', 'black', inplace=True)\n",
    "sales['product_color'].replace('violet', 'purple', inplace=True)\n",
    "sales['product_color'].replace('gold', 'yellow', inplace=True)\n",
    "sales['product_color'].replace('wine red', 'red', inplace=True)\n",
    "sales['product_color'].replace('rosegold', 'red', inplace=True)\n",
    "sales['product_color'].replace('claret', 'red', inplace=True)\n",
    "sales['product_color'].replace('army green', 'green', inplace=True)\n",
    "sales['product_color'].replace('lightgrey', 'grey', inplace=True)"
   ]
  },
  {
   "cell_type": "code",
   "execution_count": 15,
   "metadata": {
    "execution": {
     "iopub.execute_input": "2020-09-12T06:16:30.652546Z",
     "iopub.status.busy": "2020-09-12T06:16:30.651537Z",
     "iopub.status.idle": "2020-09-12T06:16:30.656262Z",
     "shell.execute_reply": "2020-09-12T06:16:30.656862Z"
    },
    "papermill": {
     "duration": 0.098895,
     "end_time": "2020-09-12T06:16:30.657034",
     "exception": false,
     "start_time": "2020-09-12T06:16:30.558139",
     "status": "completed"
    },
    "tags": []
   },
   "outputs": [
    {
     "data": {
      "text/plain": [
       "black                  308\n",
       "white                  260\n",
       "blue                   164\n",
       "red                    153\n",
       "green                  150\n",
       "yellow                 108\n",
       "pink                   107\n",
       "grey                    86\n",
       "purple                  55\n",
       "orange                  29\n",
       "multicolor              20\n",
       "brown                   18\n",
       "beige                   14\n",
       "white & green           10\n",
       "floral                   5\n",
       "leopard                  4\n",
       "black & green            4\n",
       "camouflage               3\n",
       "black & white            3\n",
       "black & yellow           2\n",
       "pink & white             2\n",
       "white & black            2\n",
       "black & blue             2\n",
       "pink & blue              2\n",
       "pink & black             2\n",
       "pink & grey              2\n",
       "whitefloral              2\n",
       "winered & yellow         1\n",
       "leopardprint             1\n",
       "red & blue               1\n",
       "white & red              1\n",
       "navyblue & white         1\n",
       "rainbow                  1\n",
       "whitestripe              1\n",
       "brown & yellow           1\n",
       "star                     1\n",
       "gray & white             1\n",
       "greysnakeskinprint       1\n",
       "black & stripe           1\n",
       "blue & pink              1\n",
       "orange & camouflage      1\n",
       "blackwhite               1\n",
       "Name: product_color, dtype: int64"
      ]
     },
     "execution_count": 15,
     "metadata": {},
     "output_type": "execute_result"
    }
   ],
   "source": [
    "count = sales['product_color'].value_counts()\n",
    "count"
   ]
  },
  {
   "cell_type": "code",
   "execution_count": 16,
   "metadata": {
    "execution": {
     "iopub.execute_input": "2020-09-12T06:16:30.833401Z",
     "iopub.status.busy": "2020-09-12T06:16:30.832282Z",
     "iopub.status.idle": "2020-09-12T06:16:30.837255Z",
     "shell.execute_reply": "2020-09-12T06:16:30.836345Z"
    },
    "papermill": {
     "duration": 0.096274,
     "end_time": "2020-09-12T06:16:30.837443",
     "exception": false,
     "start_time": "2020-09-12T06:16:30.741169",
     "status": "completed"
    },
    "tags": []
   },
   "outputs": [],
   "source": [
    "sales['product_color'].replace(np.nan, 'others', inplace=True)"
   ]
  },
  {
   "cell_type": "code",
   "execution_count": 17,
   "metadata": {
    "execution": {
     "iopub.execute_input": "2020-09-12T06:16:31.191843Z",
     "iopub.status.busy": "2020-09-12T06:16:31.190747Z",
     "iopub.status.idle": "2020-09-12T06:16:31.194491Z",
     "shell.execute_reply": "2020-09-12T06:16:31.193826Z"
    },
    "papermill": {
     "duration": 0.095778,
     "end_time": "2020-09-12T06:16:31.194624",
     "exception": false,
     "start_time": "2020-09-12T06:16:31.098846",
     "status": "completed"
    },
    "tags": []
   },
   "outputs": [],
   "source": [
    "def color(col):\n",
    "    ls = ['black', 'white', 'blue', 'red', 'green', 'yellow', 'pink', 'grey', 'purple', 'orange', 'brown', 'beige']\n",
    "    if col not in ls:\n",
    "        if '&' in col:\n",
    "            return 'dual'\n",
    "        else:\n",
    "            return 'others'\n",
    "    return col"
   ]
  },
  {
   "cell_type": "code",
   "execution_count": 18,
   "metadata": {
    "execution": {
     "iopub.execute_input": "2020-09-12T06:16:31.376676Z",
     "iopub.status.busy": "2020-09-12T06:16:31.375577Z",
     "iopub.status.idle": "2020-09-12T06:16:31.379454Z",
     "shell.execute_reply": "2020-09-12T06:16:31.378677Z"
    },
    "papermill": {
     "duration": 0.099718,
     "end_time": "2020-09-12T06:16:31.379607",
     "exception": false,
     "start_time": "2020-09-12T06:16:31.279889",
     "status": "completed"
    },
    "tags": []
   },
   "outputs": [],
   "source": [
    "sales['product_color'] = sales['product_color'].apply(color)"
   ]
  },
  {
   "cell_type": "code",
   "execution_count": 19,
   "metadata": {
    "execution": {
     "iopub.execute_input": "2020-09-12T06:16:31.553455Z",
     "iopub.status.busy": "2020-09-12T06:16:31.552648Z",
     "iopub.status.idle": "2020-09-12T06:16:31.836367Z",
     "shell.execute_reply": "2020-09-12T06:16:31.835627Z"
    },
    "papermill": {
     "duration": 0.37397,
     "end_time": "2020-09-12T06:16:31.836524",
     "exception": false,
     "start_time": "2020-09-12T06:16:31.462554",
     "status": "completed"
    },
    "tags": []
   },
   "outputs": [
    {
     "data": {
      "image/png": "[encoded data removed]",
      "text/plain": [
       "<Figure size 720x360 with 1 Axes>"
      ]
     },
     "metadata": {
      "needs_background": "light"
     },
     "output_type": "display_data"
    }
   ],
   "source": [
    "plt.figure(figsize=(10,5))\n",
    "sns.countplot(x = 'product_color', data = sales, order = sales['product_color'].value_counts().iloc[:].index)\n",
    "plt.xlabel('Product Colour')\n",
    "plt.ylabel('Count')\n",
    "plt.show()"
   ]
  },
  {
   "cell_type": "markdown",
   "metadata": {
    "papermill": {
     "duration": 0.084698,
     "end_time": "2020-09-12T06:16:32.016073",
     "exception": false,
     "start_time": "2020-09-12T06:16:31.931375",
     "status": "completed"
    },
    "tags": []
   },
   "source": [
    "#### 2. Product Variation Size ID"
   ]
  },
  {
   "cell_type": "markdown",
   "metadata": {
    "papermill": {
     "duration": 0.083572,
     "end_time": "2020-09-12T06:16:32.234741",
     "exception": false,
     "start_time": "2020-09-12T06:16:32.151169",
     "status": "completed"
    },
    "tags": []
   },
   "source": [
    "* The categories opted are XXXS, XXS, XS, S, M, L, XL, XXL, XXXL, XXXXL, XXXXXL, Others\n",
    "\n",
    "\n",
    "* All null values will be under the category 'Others'"
   ]
  },
  {
   "cell_type": "code",
   "execution_count": 20,
   "metadata": {
    "execution": {
     "iopub.execute_input": "2020-09-12T06:16:32.415282Z",
     "iopub.status.busy": "2020-09-12T06:16:32.414267Z",
     "iopub.status.idle": "2020-09-12T06:16:32.418903Z",
     "shell.execute_reply": "2020-09-12T06:16:32.419599Z"
    },
    "papermill": {
     "duration": 0.100398,
     "end_time": "2020-09-12T06:16:32.419776",
     "exception": false,
     "start_time": "2020-09-12T06:16:32.319378",
     "status": "completed"
    },
    "tags": []
   },
   "outputs": [
    {
     "data": {
      "text/plain": [
       "S          641\n",
       "XS         356\n",
       "M          200\n",
       "XXS        100\n",
       "L           49\n",
       "S.          18\n",
       "XL          17\n",
       "XXL         15\n",
       "XXXS         6\n",
       "s            5\n",
       "Size S       5\n",
       "XS.          5\n",
       "4XL          5\n",
       "2XL          4\n",
       "SIZE XS      4\n",
       "M.           4\n",
       "Size-XS      4\n",
       "Name: product_variation_size_id, dtype: int64"
      ]
     },
     "execution_count": 20,
     "metadata": {},
     "output_type": "execute_result"
    }
   ],
   "source": [
    "count = sales['product_variation_size_id'].value_counts()\n",
    "count[count>3]"
   ]
  },
  {
   "cell_type": "code",
   "execution_count": 21,
   "metadata": {
    "execution": {
     "iopub.execute_input": "2020-09-12T06:16:32.608892Z",
     "iopub.status.busy": "2020-09-12T06:16:32.602306Z",
     "iopub.status.idle": "2020-09-12T06:16:32.612301Z",
     "shell.execute_reply": "2020-09-12T06:16:32.611550Z"
    },
    "papermill": {
     "duration": 0.107938,
     "end_time": "2020-09-12T06:16:32.612437",
     "exception": false,
     "start_time": "2020-09-12T06:16:32.504499",
     "status": "completed"
    },
    "tags": []
   },
   "outputs": [],
   "source": [
    "sales['product_variation_size_id'].replace('S.', 'S', inplace=True)\n",
    "sales['product_variation_size_id'].replace('Size S', 'S', inplace=True)\n",
    "sales['product_variation_size_id'].replace('XS.', 'XS', inplace=True)\n",
    "sales['product_variation_size_id'].replace('s', 'S', inplace=True)\n",
    "sales['product_variation_size_id'].replace('M.', 'M', inplace=True)\n",
    "sales['product_variation_size_id'].replace('2XL', 'XXL', inplace=True)\n",
    "sales['product_variation_size_id'].replace('Size XS', 'XS', inplace=True)\n",
    "sales['product_variation_size_id'].replace('Size-XS', 'XS', inplace=True)\n",
    "sales['product_variation_size_id'].replace('4XL', 'XXXXL', inplace=True)\n",
    "sales['product_variation_size_id'].replace('SIZE XS', 'XS', inplace=True)"
   ]
  },
  {
   "cell_type": "code",
   "execution_count": 22,
   "metadata": {
    "execution": {
     "iopub.execute_input": "2020-09-12T06:16:32.791353Z",
     "iopub.status.busy": "2020-09-12T06:16:32.790406Z",
     "iopub.status.idle": "2020-09-12T06:16:32.795661Z",
     "shell.execute_reply": "2020-09-12T06:16:32.794918Z"
    },
    "papermill": {
     "duration": 0.098523,
     "end_time": "2020-09-12T06:16:32.795790",
     "exception": false,
     "start_time": "2020-09-12T06:16:32.697267",
     "status": "completed"
    },
    "tags": []
   },
   "outputs": [
    {
     "data": {
      "text/plain": [
       "SizeL     3\n",
       "33        3\n",
       "2pcs      3\n",
       "Size-S    3\n",
       "34        3\n",
       "10 ml     3\n",
       "Name: product_variation_size_id, dtype: int64"
      ]
     },
     "execution_count": 22,
     "metadata": {},
     "output_type": "execute_result"
    }
   ],
   "source": [
    "count = sales['product_variation_size_id'].value_counts()\n",
    "count[count==3]"
   ]
  },
  {
   "cell_type": "code",
   "execution_count": 23,
   "metadata": {
    "execution": {
     "iopub.execute_input": "2020-09-12T06:16:32.975719Z",
     "iopub.status.busy": "2020-09-12T06:16:32.974877Z",
     "iopub.status.idle": "2020-09-12T06:16:32.978504Z",
     "shell.execute_reply": "2020-09-12T06:16:32.977793Z"
    },
    "papermill": {
     "duration": 0.096213,
     "end_time": "2020-09-12T06:16:32.978630",
     "exception": false,
     "start_time": "2020-09-12T06:16:32.882417",
     "status": "completed"
    },
    "tags": []
   },
   "outputs": [],
   "source": [
    "sales['product_variation_size_id'].replace('SizeL', 'L', inplace=True)\n",
    "sales['product_variation_size_id'].replace('Size-S', 'S', inplace=True)"
   ]
  },
  {
   "cell_type": "code",
   "execution_count": 24,
   "metadata": {
    "execution": {
     "iopub.execute_input": "2020-09-12T06:16:33.160451Z",
     "iopub.status.busy": "2020-09-12T06:16:33.159603Z",
     "iopub.status.idle": "2020-09-12T06:16:33.164140Z",
     "shell.execute_reply": "2020-09-12T06:16:33.164750Z"
    },
    "papermill": {
     "duration": 0.099756,
     "end_time": "2020-09-12T06:16:33.164919",
     "exception": false,
     "start_time": "2020-09-12T06:16:33.065163",
     "status": "completed"
    },
    "tags": []
   },
   "outputs": [
    {
     "data": {
      "text/plain": [
       "1               2\n",
       "S Pink          2\n",
       "Size M          2\n",
       "5XL             2\n",
       "One Size        2\n",
       "Size4XL         2\n",
       "S(bust 88cm)    2\n",
       "SIZE-XXS        2\n",
       "size S          2\n",
       "Size -XXS       2\n",
       "29              2\n",
       "Size S.         2\n",
       "1 pc.           2\n",
       "Suit-S          2\n",
       "XXXXXL          2\n",
       "EU 35           2\n",
       "3XL             2\n",
       "35              2\n",
       "25              2\n",
       "Name: product_variation_size_id, dtype: int64"
      ]
     },
     "execution_count": 24,
     "metadata": {},
     "output_type": "execute_result"
    }
   ],
   "source": [
    "count = sales['product_variation_size_id'].value_counts()\n",
    "count[count==2]"
   ]
  },
  {
   "cell_type": "code",
   "execution_count": 25,
   "metadata": {
    "execution": {
     "iopub.execute_input": "2020-09-12T06:16:33.361026Z",
     "iopub.status.busy": "2020-09-12T06:16:33.360115Z",
     "iopub.status.idle": "2020-09-12T06:16:33.363717Z",
     "shell.execute_reply": "2020-09-12T06:16:33.364322Z"
    },
    "papermill": {
     "duration": 0.112036,
     "end_time": "2020-09-12T06:16:33.364524",
     "exception": false,
     "start_time": "2020-09-12T06:16:33.252488",
     "status": "completed"
    },
    "tags": []
   },
   "outputs": [],
   "source": [
    "sales['product_variation_size_id'].replace('5XL', 'XXXXXL', inplace=True)\n",
    "sales['product_variation_size_id'].replace('3XL', 'XXXL', inplace=True)\n",
    "sales['product_variation_size_id'].replace('S(bust 88cm)', 'S', inplace=True)\n",
    "sales['product_variation_size_id'].replace('Size4XL', 'XXXXL', inplace=True)\n",
    "sales['product_variation_size_id'].replace('Size -XXS', 'XXS', inplace=True)\n",
    "sales['product_variation_size_id'].replace('SIZE-XXS', 'XXS', inplace=True)\n",
    "sales['product_variation_size_id'].replace('Size M', 'M', inplace=True)\n",
    "sales['product_variation_size_id'].replace('size S', 'S', inplace=True)\n",
    "sales['product_variation_size_id'].replace('S Pink', 'S', inplace=True)\n",
    "sales['product_variation_size_id'].replace('Size S.', 'S', inplace=True)\n",
    "sales['product_variation_size_id'].replace('Suit-S', 'S', inplace=True)"
   ]
  },
  {
   "cell_type": "code",
   "execution_count": 26,
   "metadata": {
    "execution": {
     "iopub.execute_input": "2020-09-12T06:16:33.546283Z",
     "iopub.status.busy": "2020-09-12T06:16:33.545104Z",
     "iopub.status.idle": "2020-09-12T06:16:33.549776Z",
     "shell.execute_reply": "2020-09-12T06:16:33.550300Z"
    },
    "papermill": {
     "duration": 0.099112,
     "end_time": "2020-09-12T06:16:33.550482",
     "exception": false,
     "start_time": "2020-09-12T06:16:33.451370",
     "status": "completed"
    },
    "tags": []
   },
   "outputs": [
    {
     "data": {
      "text/plain": [
       "84"
      ]
     },
     "execution_count": 26,
     "metadata": {},
     "output_type": "execute_result"
    }
   ],
   "source": [
    "count = sales['product_variation_size_id'].value_counts()\n",
    "count.count()"
   ]
  },
  {
   "cell_type": "code",
   "execution_count": 27,
   "metadata": {
    "execution": {
     "iopub.execute_input": "2020-09-12T06:16:33.731489Z",
     "iopub.status.busy": "2020-09-12T06:16:33.730637Z",
     "iopub.status.idle": "2020-09-12T06:16:33.734389Z",
     "shell.execute_reply": "2020-09-12T06:16:33.733640Z"
    },
    "papermill": {
     "duration": 0.096734,
     "end_time": "2020-09-12T06:16:33.734547",
     "exception": false,
     "start_time": "2020-09-12T06:16:33.637813",
     "status": "completed"
    },
    "tags": []
   },
   "outputs": [],
   "source": [
    "def size_name(size):\n",
    "    ls = [\"XXXS\", \"XXS\", \"XS\", \"S\", \"M\", \"L\", \"XL\", \"XXL\", \"XXXL\", \"XXXXL\", \"XXXXXL\"]\n",
    "    if size in ls:\n",
    "        return size\n",
    "    return \"Others\""
   ]
  },
  {
   "cell_type": "code",
   "execution_count": 28,
   "metadata": {
    "execution": {
     "iopub.execute_input": "2020-09-12T06:16:33.920575Z",
     "iopub.status.busy": "2020-09-12T06:16:33.919376Z",
     "iopub.status.idle": "2020-09-12T06:16:33.923346Z",
     "shell.execute_reply": "2020-09-12T06:16:33.922737Z"
    },
    "papermill": {
     "duration": 0.102212,
     "end_time": "2020-09-12T06:16:33.923504",
     "exception": false,
     "start_time": "2020-09-12T06:16:33.821292",
     "status": "completed"
    },
    "tags": []
   },
   "outputs": [],
   "source": [
    "sales['product_variation_size_id'].replace(np.nan, 'Others', inplace=True)\n",
    "sales['product_variation_size_id'] = sales['product_variation_size_id'].apply(size_name)"
   ]
  },
  {
   "cell_type": "code",
   "execution_count": 29,
   "metadata": {
    "execution": {
     "iopub.execute_input": "2020-09-12T06:16:34.106348Z",
     "iopub.status.busy": "2020-09-12T06:16:34.105543Z",
     "iopub.status.idle": "2020-09-12T06:16:34.329990Z",
     "shell.execute_reply": "2020-09-12T06:16:34.329229Z"
    },
    "papermill": {
     "duration": 0.318844,
     "end_time": "2020-09-12T06:16:34.330118",
     "exception": false,
     "start_time": "2020-09-12T06:16:34.011274",
     "status": "completed"
    },
    "tags": []
   },
   "outputs": [
    {
     "data": {
      "image/png": "[encoded data removed]",
      "text/plain": [
       "<Figure size 720x360 with 1 Axes>"
      ]
     },
     "metadata": {
      "needs_background": "light"
     },
     "output_type": "display_data"
    }
   ],
   "source": [
    "plt.figure(figsize=(10,5))\n",
    "sns.countplot(x = 'product_variation_size_id', data = sales, order = sales['product_variation_size_id'].value_counts().iloc[:].index)\n",
    "plt.xlabel('Product Variation Size ID')\n",
    "plt.ylabel('Count')\n",
    "plt.show()"
   ]
  },
  {
   "cell_type": "markdown",
   "metadata": {
    "papermill": {
     "duration": 0.088679,
     "end_time": "2020-09-12T06:16:34.509792",
     "exception": false,
     "start_time": "2020-09-12T06:16:34.421113",
     "status": "completed"
    },
    "tags": []
   },
   "source": [
    "#### 3. Origin country\n",
    "\n",
    "* The categories opted are 'CN', 'US' and 'Others'(VE, SG, AT and GB).\n",
    "\n",
    "\n",
    "* All the null values are categorized under 'Others'"
   ]
  },
  {
   "cell_type": "code",
   "execution_count": 30,
   "metadata": {
    "execution": {
     "iopub.execute_input": "2020-09-12T06:16:34.696449Z",
     "iopub.status.busy": "2020-09-12T06:16:34.695166Z",
     "iopub.status.idle": "2020-09-12T06:16:34.700136Z",
     "shell.execute_reply": "2020-09-12T06:16:34.699551Z"
    },
    "papermill": {
     "duration": 0.102189,
     "end_time": "2020-09-12T06:16:34.700272",
     "exception": false,
     "start_time": "2020-09-12T06:16:34.598083",
     "status": "completed"
    },
    "tags": []
   },
   "outputs": [
    {
     "data": {
      "text/plain": [
       "CN    1516\n",
       "US      31\n",
       "VE       5\n",
       "SG       2\n",
       "AT       1\n",
       "GB       1\n",
       "Name: origin_country, dtype: int64"
      ]
     },
     "execution_count": 30,
     "metadata": {},
     "output_type": "execute_result"
    }
   ],
   "source": [
    "sales['origin_country'].value_counts()"
   ]
  },
  {
   "cell_type": "code",
   "execution_count": 31,
   "metadata": {
    "execution": {
     "iopub.execute_input": "2020-09-12T06:16:35.070749Z",
     "iopub.status.busy": "2020-09-12T06:16:35.069924Z",
     "iopub.status.idle": "2020-09-12T06:16:35.073629Z",
     "shell.execute_reply": "2020-09-12T06:16:35.072863Z"
    },
    "papermill": {
     "duration": 0.100892,
     "end_time": "2020-09-12T06:16:35.073759",
     "exception": false,
     "start_time": "2020-09-12T06:16:34.972867",
     "status": "completed"
    },
    "tags": []
   },
   "outputs": [],
   "source": [
    "def origin_name(country):\n",
    "    ls = [\"VE\", \"SG\", \"GB\", \"AT\"]\n",
    "    if country in ls:\n",
    "        return \"Others\"\n",
    "    return country"
   ]
  },
  {
   "cell_type": "code",
   "execution_count": 32,
   "metadata": {
    "execution": {
     "iopub.execute_input": "2020-09-12T06:16:35.261895Z",
     "iopub.status.busy": "2020-09-12T06:16:35.260692Z",
     "iopub.status.idle": "2020-09-12T06:16:35.264415Z",
     "shell.execute_reply": "2020-09-12T06:16:35.263761Z"
    },
    "papermill": {
     "duration": 0.102353,
     "end_time": "2020-09-12T06:16:35.264567",
     "exception": false,
     "start_time": "2020-09-12T06:16:35.162214",
     "status": "completed"
    },
    "tags": []
   },
   "outputs": [],
   "source": [
    "sales['origin_country'].replace(np.nan, \"Others\", inplace=True)\n",
    "sales['origin_country'] = sales['origin_country'].apply(origin_name)"
   ]
  },
  {
   "cell_type": "code",
   "execution_count": 33,
   "metadata": {
    "execution": {
     "iopub.execute_input": "2020-09-12T06:16:35.464082Z",
     "iopub.status.busy": "2020-09-12T06:16:35.454213Z",
     "iopub.status.idle": "2020-09-12T06:16:35.618587Z",
     "shell.execute_reply": "2020-09-12T06:16:35.619240Z"
    },
    "papermill": {
     "duration": 0.265846,
     "end_time": "2020-09-12T06:16:35.619418",
     "exception": false,
     "start_time": "2020-09-12T06:16:35.353572",
     "status": "completed"
    },
    "tags": []
   },
   "outputs": [
    {
     "data": {
      "image/png": "[encoded data removed]",
      "text/plain": [
       "<Figure size 720x360 with 1 Axes>"
      ]
     },
     "metadata": {
      "needs_background": "light"
     },
     "output_type": "display_data"
    }
   ],
   "source": [
    "plt.figure(figsize=(10,5))\n",
    "sns.countplot(x = 'origin_country', data = sales, order = sales['origin_country'].value_counts().iloc[:].index)\n",
    "plt.xlabel('Origin Country')\n",
    "plt.ylabel('Count')\n",
    "plt.show()"
   ]
  },
  {
   "cell_type": "markdown",
   "metadata": {
    "papermill": {
     "duration": 0.089904,
     "end_time": "2020-09-12T06:16:35.799715",
     "exception": false,
     "start_time": "2020-09-12T06:16:35.709811",
     "status": "completed"
    },
    "tags": []
   },
   "source": [
    "<a id='3'></a>\n",
    "\n",
    "### Removing the features that have 1 unique value\n",
    "\n",
    "* Columns with only 1 unique value will not add value to the model, hence dropping them out."
   ]
  },
  {
   "cell_type": "code",
   "execution_count": 34,
   "metadata": {
    "execution": {
     "iopub.execute_input": "2020-09-12T06:16:36.177153Z",
     "iopub.status.busy": "2020-09-12T06:16:36.176291Z",
     "iopub.status.idle": "2020-09-12T06:16:36.203889Z",
     "shell.execute_reply": "2020-09-12T06:16:36.203046Z"
    },
    "papermill": {
     "duration": 0.124842,
     "end_time": "2020-09-12T06:16:36.204034",
     "exception": false,
     "start_time": "2020-09-12T06:16:36.079192",
     "status": "completed"
    },
    "tags": []
   },
   "outputs": [
    {
     "data": {
      "text/plain": [
       "currency_buyer    1\n",
       "theme             1\n",
       "crawl_month       1\n",
       "dtype: int64"
      ]
     },
     "execution_count": 34,
     "metadata": {},
     "output_type": "execute_result"
    }
   ],
   "source": [
    "ls = sales.nunique()\n",
    "ls[ls==1]"
   ]
  },
  {
   "cell_type": "code",
   "execution_count": 35,
   "metadata": {
    "execution": {
     "iopub.execute_input": "2020-09-12T06:16:36.395967Z",
     "iopub.status.busy": "2020-09-12T06:16:36.395006Z",
     "iopub.status.idle": "2020-09-12T06:16:36.398491Z",
     "shell.execute_reply": "2020-09-12T06:16:36.397832Z"
    },
    "papermill": {
     "duration": 0.102671,
     "end_time": "2020-09-12T06:16:36.398650",
     "exception": false,
     "start_time": "2020-09-12T06:16:36.295979",
     "status": "completed"
    },
    "tags": []
   },
   "outputs": [],
   "source": [
    "sales.drop(labels = ['currency_buyer', 'theme', 'crawl_month'], axis=1, inplace=True)"
   ]
  },
  {
   "cell_type": "markdown",
   "metadata": {
    "papermill": {
     "duration": 0.090886,
     "end_time": "2020-09-12T06:16:36.581558",
     "exception": false,
     "start_time": "2020-09-12T06:16:36.490672",
     "status": "completed"
    },
    "tags": []
   },
   "source": [
    "<a id='4'></a>\n",
    "\n",
    "### Engineer a new feature"
   ]
  },
  {
   "cell_type": "markdown",
   "metadata": {
    "papermill": {
     "duration": 0.089844,
     "end_time": "2020-09-12T06:16:36.762971",
     "exception": false,
     "start_time": "2020-09-12T06:16:36.673127",
     "status": "completed"
    },
    "tags": []
   },
   "source": [
    "* Importing unique-categories.sorted-by-count.csv that has all the unique categories of tags sorted by count.\n",
    "\n",
    "\n",
    "* Aim: To find out the percentage of total number of tags available for a particular product. \n",
    "\n",
    "\n",
    "* New feature will be 'tags_percentage'.\n",
    "\n",
    "\n",
    "* More number of tags a product has, the more it will turn up in searches. Hence the probability of its units being sold will be high.\n",
    "\n",
    "\n",
    "* Dropping the 'tags' feature because it is not needed for the model."
   ]
  },
  {
   "cell_type": "code",
   "execution_count": 36,
   "metadata": {
    "execution": {
     "iopub.execute_input": "2020-09-12T06:16:36.953621Z",
     "iopub.status.busy": "2020-09-12T06:16:36.952773Z",
     "iopub.status.idle": "2020-09-12T06:16:36.966853Z",
     "shell.execute_reply": "2020-09-12T06:16:36.965878Z"
    },
    "papermill": {
     "duration": 0.113343,
     "end_time": "2020-09-12T06:16:36.967027",
     "exception": false,
     "start_time": "2020-09-12T06:16:36.853684",
     "status": "completed"
    },
    "tags": []
   },
   "outputs": [
    {
     "name": "stdout",
     "output_type": "stream",
     "text": [
      "Total number of tags:  2620\n"
     ]
    }
   ],
   "source": [
    "collect_tags = pd.read_csv('unique-categories.sorted-by-count.csv')\n",
    "print('Total number of tags: ', collect_tags.shape[0])"
   ]
  },
  {
   "cell_type": "code",
   "execution_count": 37,
   "metadata": {
    "execution": {
     "iopub.execute_input": "2020-09-12T06:16:37.161391Z",
     "iopub.status.busy": "2020-09-12T06:16:37.160651Z",
     "iopub.status.idle": "2020-09-12T06:16:37.164149Z",
     "shell.execute_reply": "2020-09-12T06:16:37.163429Z"
    },
    "papermill": {
     "duration": 0.102217,
     "end_time": "2020-09-12T06:16:37.164285",
     "exception": false,
     "start_time": "2020-09-12T06:16:37.062068",
     "status": "completed"
    },
    "tags": []
   },
   "outputs": [],
   "source": [
    "# Return percentage of tags present for a product\n",
    "\n",
    "def tag_number(tags):\n",
    "    ls = tags.split(',')\n",
    "    return len(ls)/collect_tags.shape[0]"
   ]
  },
  {
   "cell_type": "code",
   "execution_count": 38,
   "metadata": {
    "execution": {
     "iopub.execute_input": "2020-09-12T06:16:37.363543Z",
     "iopub.status.busy": "2020-09-12T06:16:37.362571Z",
     "iopub.status.idle": "2020-09-12T06:16:37.366923Z",
     "shell.execute_reply": "2020-09-12T06:16:37.366174Z"
    },
    "papermill": {
     "duration": 0.109414,
     "end_time": "2020-09-12T06:16:37.367068",
     "exception": false,
     "start_time": "2020-09-12T06:16:37.257654",
     "status": "completed"
    },
    "tags": []
   },
   "outputs": [],
   "source": [
    "sales['tags_percentage'] = sales['tags'].apply(tag_number)"
   ]
  },
  {
   "cell_type": "code",
   "execution_count": 39,
   "metadata": {
    "execution": {
     "iopub.execute_input": "2020-09-12T06:16:37.560055Z",
     "iopub.status.busy": "2020-09-12T06:16:37.559253Z",
     "iopub.status.idle": "2020-09-12T06:16:37.564675Z",
     "shell.execute_reply": "2020-09-12T06:16:37.565240Z"
    },
    "papermill": {
     "duration": 0.104995,
     "end_time": "2020-09-12T06:16:37.565407",
     "exception": false,
     "start_time": "2020-09-12T06:16:37.460412",
     "status": "completed"
    },
    "tags": []
   },
   "outputs": [],
   "source": [
    "sales.drop(labels = ['tags'], axis=1, inplace=True)"
   ]
  },
  {
   "cell_type": "markdown",
   "metadata": {
    "papermill": {
     "duration": 0.091331,
     "end_time": "2020-09-12T06:16:37.750986",
     "exception": false,
     "start_time": "2020-09-12T06:16:37.659655",
     "status": "completed"
    },
    "tags": []
   },
   "source": [
    "<a id='5'></a>\n",
    "\n",
    "### Remove unnecessary features\n",
    "\n",
    "* Columns: title, title_orig, merchant_profile_picture, product_url, product_picture, product_id, merchant_id, merchant_info_subtitle, merchant_name, merchant_title, shipping_option_name, urgency_text\n",
    "\n",
    "\n",
    "* These will be dropped for now, as the likelihood of these affecting the number of units sold is pretty less. For some of the features present above, a corresponding feature already exists in the dataset that provides more relevant information.\n",
    "\n",
    "\n",
    "* The rating_count  will also be removed since features of the distribution of rating count across (5/4/3/2/1) gives a more detailed information than 'rating count'"
   ]
  },
  {
   "cell_type": "code",
   "execution_count": 40,
   "metadata": {
    "execution": {
     "iopub.execute_input": "2020-09-12T06:16:37.962384Z",
     "iopub.status.busy": "2020-09-12T06:16:37.961200Z",
     "iopub.status.idle": "2020-09-12T06:16:37.966742Z",
     "shell.execute_reply": "2020-09-12T06:16:37.966036Z"
    },
    "papermill": {
     "duration": 0.12314,
     "end_time": "2020-09-12T06:16:37.966880",
     "exception": false,
     "start_time": "2020-09-12T06:16:37.843740",
     "status": "completed"
    },
    "tags": []
   },
   "outputs": [
    {
     "data": {
      "text/plain": [
       "title                        object\n",
       "title_orig                   object\n",
       "product_color                object\n",
       "product_variation_size_id    object\n",
       "shipping_option_name         object\n",
       "urgency_text                 object\n",
       "origin_country               object\n",
       "merchant_title               object\n",
       "merchant_name                object\n",
       "merchant_info_subtitle       object\n",
       "merchant_id                  object\n",
       "merchant_profile_picture     object\n",
       "product_url                  object\n",
       "product_picture              object\n",
       "product_id                   object\n",
       "dtype: object"
      ]
     },
     "execution_count": 40,
     "metadata": {},
     "output_type": "execute_result"
    }
   ],
   "source": [
    "sales.dtypes[sales.dtypes == 'object']"
   ]
  },
  {
   "cell_type": "code",
   "execution_count": 41,
   "metadata": {
    "execution": {
     "iopub.execute_input": "2020-09-12T06:16:38.360929Z",
     "iopub.status.busy": "2020-09-12T06:16:38.359731Z",
     "iopub.status.idle": "2020-09-12T06:16:38.363265Z",
     "shell.execute_reply": "2020-09-12T06:16:38.363930Z"
    },
    "papermill": {
     "duration": 0.106279,
     "end_time": "2020-09-12T06:16:38.364112",
     "exception": false,
     "start_time": "2020-09-12T06:16:38.257833",
     "status": "completed"
    },
    "tags": []
   },
   "outputs": [],
   "source": [
    "sales.drop(labels = ['title', 'title_orig', 'merchant_profile_picture', 'product_url', 'product_picture', 'product_id', 'merchant_id', \n",
    "                     'merchant_info_subtitle', 'merchant_name', 'merchant_title', 'shipping_option_name', 'urgency_text'], \n",
    "           axis=1, \n",
    "           inplace=True)"
   ]
  },
  {
   "cell_type": "code",
   "execution_count": 42,
   "metadata": {
    "execution": {
     "iopub.execute_input": "2020-09-12T06:16:38.560437Z",
     "iopub.status.busy": "2020-09-12T06:16:38.559091Z",
     "iopub.status.idle": "2020-09-12T06:16:38.562588Z",
     "shell.execute_reply": "2020-09-12T06:16:38.561921Z"
    },
    "papermill": {
     "duration": 0.104158,
     "end_time": "2020-09-12T06:16:38.562723",
     "exception": false,
     "start_time": "2020-09-12T06:16:38.458565",
     "status": "completed"
    },
    "tags": []
   },
   "outputs": [],
   "source": [
    "sales.drop(labels = ['rating_count'], axis=1, inplace=True)"
   ]
  },
  {
   "cell_type": "markdown",
   "metadata": {
    "papermill": {
     "duration": 0.093778,
     "end_time": "2020-09-12T06:16:38.750490",
     "exception": false,
     "start_time": "2020-09-12T06:16:38.656712",
     "status": "completed"
    },
    "tags": []
   },
   "source": [
    "<a id='correlation'></a>\n",
    "\n",
    "## Correlation between features\n",
    "\n",
    "* Checking three categorical variables (product colour, variation size and origin country) of correlation (using the one hot encoded format) with the units sold. "
   ]
  },
  {
   "cell_type": "markdown",
   "metadata": {
    "papermill": {
     "duration": 0.094242,
     "end_time": "2020-09-12T06:16:39.126530",
     "exception": false,
     "start_time": "2020-09-12T06:16:39.032288",
     "status": "completed"
    },
    "tags": []
   },
   "source": [
    "### 1. Product Color"
   ]
  },
  {
   "cell_type": "code",
   "execution_count": 43,
   "metadata": {
    "execution": {
     "iopub.execute_input": "2020-09-12T06:16:39.322848Z",
     "iopub.status.busy": "2020-09-12T06:16:39.322037Z",
     "iopub.status.idle": "2020-09-12T06:16:39.327674Z",
     "shell.execute_reply": "2020-09-12T06:16:39.326844Z"
    },
    "papermill": {
     "duration": 0.108208,
     "end_time": "2020-09-12T06:16:39.327817",
     "exception": false,
     "start_time": "2020-09-12T06:16:39.219609",
     "status": "completed"
    },
    "tags": []
   },
   "outputs": [],
   "source": [
    "# product color\n",
    "dummies_color = pd.get_dummies(sales['product_color'], drop_first=True) # give us the one hot ecoded features\n",
    "dummies_color.drop(labels = 'others', axis=1, inplace=True) # remove the 'others' feature as n-1 encoded features represents n features"
   ]
  },
  {
   "cell_type": "markdown",
   "metadata": {
    "papermill": {
     "duration": 0.093832,
     "end_time": "2020-09-12T06:16:39.516662",
     "exception": false,
     "start_time": "2020-09-12T06:16:39.422830",
     "status": "completed"
    },
    "tags": []
   },
   "source": [
    "### 2. Product Variation Size ID"
   ]
  },
  {
   "cell_type": "code",
   "execution_count": 44,
   "metadata": {
    "execution": {
     "iopub.execute_input": "2020-09-12T06:16:39.715944Z",
     "iopub.status.busy": "2020-09-12T06:16:39.714831Z",
     "iopub.status.idle": "2020-09-12T06:16:39.718453Z",
     "shell.execute_reply": "2020-09-12T06:16:39.717849Z"
    },
    "papermill": {
     "duration": 0.106436,
     "end_time": "2020-09-12T06:16:39.718623",
     "exception": false,
     "start_time": "2020-09-12T06:16:39.612187",
     "status": "completed"
    },
    "tags": []
   },
   "outputs": [],
   "source": [
    "# product variation size id\n",
    "dummies_variation = pd.get_dummies(sales['product_variation_size_id'])\n",
    "dummies_variation.drop(labels = ['Others'], axis = 1, inplace=True)"
   ]
  },
  {
   "cell_type": "markdown",
   "metadata": {
    "papermill": {
     "duration": 0.094553,
     "end_time": "2020-09-12T06:16:39.907072",
     "exception": false,
     "start_time": "2020-09-12T06:16:39.812519",
     "status": "completed"
    },
    "tags": []
   },
   "source": [
    "### 3. Origin Country"
   ]
  },
  {
   "cell_type": "code",
   "execution_count": 45,
   "metadata": {
    "execution": {
     "iopub.execute_input": "2020-09-12T06:16:40.105111Z",
     "iopub.status.busy": "2020-09-12T06:16:40.104038Z",
     "iopub.status.idle": "2020-09-12T06:16:40.109504Z",
     "shell.execute_reply": "2020-09-12T06:16:40.108732Z"
    },
    "papermill": {
     "duration": 0.109987,
     "end_time": "2020-09-12T06:16:40.109631",
     "exception": false,
     "start_time": "2020-09-12T06:16:39.999644",
     "status": "completed"
    },
    "tags": []
   },
   "outputs": [],
   "source": [
    "dummies_origin = pd.get_dummies(sales['origin_country'])\n",
    "dummies_origin.drop(labels=['Others'], axis = 1, inplace=True)"
   ]
  },
  {
   "cell_type": "code",
   "execution_count": 46,
   "metadata": {
    "execution": {
     "iopub.execute_input": "2020-09-12T06:16:40.318162Z",
     "iopub.status.busy": "2020-09-12T06:16:40.307910Z",
     "iopub.status.idle": "2020-09-12T06:16:40.329214Z",
     "shell.execute_reply": "2020-09-12T06:16:40.328529Z"
    },
    "papermill": {
     "duration": 0.124275,
     "end_time": "2020-09-12T06:16:40.329348",
     "exception": false,
     "start_time": "2020-09-12T06:16:40.205073",
     "status": "completed"
    },
    "tags": []
   },
   "outputs": [
    {
     "data": {
      "text/html": [
       "<div>\n",
       "<style scoped>\n",
       "    .dataframe tbody tr th:only-of-type {\n",
       "        vertical-align: middle;\n",
       "    }\n",
       "\n",
       "    .dataframe tbody tr th {\n",
       "        vertical-align: top;\n",
       "    }\n",
       "\n",
       "    .dataframe thead th {\n",
       "        text-align: right;\n",
       "    }\n",
       "</style>\n",
       "<table border=\"1\" class=\"dataframe\">\n",
       "  <thead>\n",
       "    <tr style=\"text-align: right;\">\n",
       "      <th></th>\n",
       "      <th>black</th>\n",
       "      <th>blue</th>\n",
       "      <th>brown</th>\n",
       "      <th>dual</th>\n",
       "      <th>green</th>\n",
       "      <th>grey</th>\n",
       "      <th>orange</th>\n",
       "      <th>pink</th>\n",
       "      <th>purple</th>\n",
       "      <th>red</th>\n",
       "      <th>...</th>\n",
       "      <th>XS</th>\n",
       "      <th>XXL</th>\n",
       "      <th>XXS</th>\n",
       "      <th>XXXL</th>\n",
       "      <th>XXXS</th>\n",
       "      <th>XXXXL</th>\n",
       "      <th>XXXXXL</th>\n",
       "      <th>CN</th>\n",
       "      <th>US</th>\n",
       "      <th>units_sold</th>\n",
       "    </tr>\n",
       "  </thead>\n",
       "  <tbody>\n",
       "    <tr>\n",
       "      <th>0</th>\n",
       "      <td>0</td>\n",
       "      <td>0</td>\n",
       "      <td>0</td>\n",
       "      <td>0</td>\n",
       "      <td>0</td>\n",
       "      <td>0</td>\n",
       "      <td>0</td>\n",
       "      <td>0</td>\n",
       "      <td>0</td>\n",
       "      <td>0</td>\n",
       "      <td>...</td>\n",
       "      <td>0</td>\n",
       "      <td>0</td>\n",
       "      <td>0</td>\n",
       "      <td>0</td>\n",
       "      <td>0</td>\n",
       "      <td>0</td>\n",
       "      <td>0</td>\n",
       "      <td>1</td>\n",
       "      <td>0</td>\n",
       "      <td>100</td>\n",
       "    </tr>\n",
       "  </tbody>\n",
       "</table>\n",
       "<p>1 rows × 26 columns</p>\n",
       "</div>"
      ],
      "text/plain": [
       "   black  blue  brown  dual  green  grey  orange  pink  purple  red  ...  XS  \\\n",
       "0      0     0      0     0      0     0       0     0       0    0  ...   0   \n",
       "\n",
       "   XXL  XXS  XXXL  XXXS  XXXXL  XXXXXL  CN  US  units_sold  \n",
       "0    0    0     0     0      0       0   1   0         100  \n",
       "\n",
       "[1 rows x 26 columns]"
      ]
     },
     "execution_count": 46,
     "metadata": {},
     "output_type": "execute_result"
    }
   ],
   "source": [
    "# concatenating all the one hot encoded features for the three categorical variables above\n",
    "\n",
    "feat_onehot = pd.concat([dummies_color, dummies_variation, dummies_origin, sales['units_sold']], axis=1)\n",
    "feat_onehot.head(1)"
   ]
  },
  {
   "cell_type": "code",
   "execution_count": 47,
   "metadata": {
    "execution": {
     "iopub.execute_input": "2020-09-12T06:16:40.526511Z",
     "iopub.status.busy": "2020-09-12T06:16:40.525721Z",
     "iopub.status.idle": "2020-09-12T06:16:40.541323Z",
     "shell.execute_reply": "2020-09-12T06:16:40.540520Z"
    },
    "papermill": {
     "duration": 0.116215,
     "end_time": "2020-09-12T06:16:40.541456",
     "exception": false,
     "start_time": "2020-09-12T06:16:40.425241",
     "status": "completed"
    },
    "tags": []
   },
   "outputs": [
    {
     "data": {
      "text/plain": [
       "units_sold    1.000000\n",
       "M             0.107101\n",
       "S             0.063655\n",
       "black         0.046767\n",
       "XL            0.042029\n",
       "grey          0.041432\n",
       "purple        0.037679\n",
       "orange        0.034395\n",
       "L             0.029851\n",
       "CN            0.026664\n",
       "XXXXXL        0.017198\n",
       "white         0.008433\n",
       "XXXL          0.003245\n",
       "green        -0.016570\n",
       "dual         -0.021030\n",
       "XXL          -0.024689\n",
       "XXXXL        -0.024773\n",
       "XXXS         -0.027051\n",
       "blue         -0.028643\n",
       "brown        -0.028790\n",
       "red          -0.030292\n",
       "US           -0.044473\n",
       "pink         -0.046868\n",
       "yellow       -0.063270\n",
       "XXS          -0.072489\n",
       "XS           -0.112293\n",
       "Name: units_sold, dtype: float64"
      ]
     },
     "execution_count": 47,
     "metadata": {},
     "output_type": "execute_result"
    }
   ],
   "source": [
    "feat_onehot_corr = feat_onehot.corr()\n",
    "\n",
    "feat_onehot_corr['units_sold'].sort_values(ascending=False)"
   ]
  },
  {
   "cell_type": "code",
   "execution_count": 48,
   "metadata": {},
   "outputs": [
    {
     "data": {
      "image/png": "[encoded data removed]",
      "text/plain": [
       "<Figure size 1296x720 with 2 Axes>"
      ]
     },
     "metadata": {
      "needs_background": "light"
     },
     "output_type": "display_data"
    }
   ],
   "source": [
    "plt.figure(figsize = (18, 10))\n",
    "sns.heatmap(feat_onehot_corr, annot=True, cmap='Dark2_r')\n",
    "plt.title('Correlation between features')\n",
    "plt.show()"
   ]
  },
  {
   "cell_type": "markdown",
   "metadata": {
    "papermill": {
     "duration": 0.094978,
     "end_time": "2020-09-12T06:16:40.733004",
     "exception": false,
     "start_time": "2020-09-12T06:16:40.638026",
     "status": "completed"
    },
    "tags": []
   },
   "source": [
    "* From the above result we can safely say that the dependency of units sold on the product color, variation size or origin country is very unlikely. \n",
    "\n",
    "\n",
    "* For the same reason, we will DROP these three features. "
   ]
  },
  {
   "cell_type": "code",
   "execution_count": 49,
   "metadata": {
    "execution": {
     "iopub.execute_input": "2020-09-12T06:16:40.931732Z",
     "iopub.status.busy": "2020-09-12T06:16:40.930930Z",
     "iopub.status.idle": "2020-09-12T06:16:40.933977Z",
     "shell.execute_reply": "2020-09-12T06:16:40.933194Z"
    },
    "papermill": {
     "duration": 0.10527,
     "end_time": "2020-09-12T06:16:40.934109",
     "exception": false,
     "start_time": "2020-09-12T06:16:40.828839",
     "status": "completed"
    },
    "tags": []
   },
   "outputs": [],
   "source": [
    "sales.drop(labels = ['product_color', 'product_variation_size_id', 'origin_country'], \n",
    "           axis=1, \n",
    "           inplace=True)"
   ]
  },
  {
   "cell_type": "markdown",
   "metadata": {
    "papermill": {
     "duration": 0.096508,
     "end_time": "2020-09-12T06:16:41.126377",
     "exception": false,
     "start_time": "2020-09-12T06:16:41.029869",
     "status": "completed"
    },
    "tags": []
   },
   "source": [
    "### Correlation features and units of the product sold"
   ]
  },
  {
   "cell_type": "code",
   "execution_count": 50,
   "metadata": {
    "execution": {
     "iopub.execute_input": "2020-09-12T06:16:41.326810Z",
     "iopub.status.busy": "2020-09-12T06:16:41.325830Z",
     "iopub.status.idle": "2020-09-12T06:16:43.939449Z",
     "shell.execute_reply": "2020-09-12T06:16:43.940080Z"
    },
    "papermill": {
     "duration": 2.718678,
     "end_time": "2020-09-12T06:16:43.940245",
     "exception": false,
     "start_time": "2020-09-12T06:16:41.221567",
     "status": "completed"
    },
    "scrolled": true,
    "tags": []
   },
   "outputs": [
    {
     "data": {
      "image/png": "[encoded data removed]",
      "text/plain": [
       "<Figure size 1296x1152 with 2 Axes>"
      ]
     },
     "metadata": {
      "needs_background": "light"
     },
     "output_type": "display_data"
    }
   ],
   "source": [
    "sales_corr = sales.corr()\n",
    "\n",
    "plt.figure(figsize = (18, 16))\n",
    "sns.heatmap(sales_corr, annot=True, cmap='Dark2_r')\n",
    "plt.title('Correlation between features')\n",
    "plt.show()"
   ]
  },
  {
   "cell_type": "code",
   "execution_count": 51,
   "metadata": {
    "execution": {
     "iopub.execute_input": "2020-09-12T06:16:44.166205Z",
     "iopub.status.busy": "2020-09-12T06:16:44.165035Z",
     "iopub.status.idle": "2020-09-12T06:16:44.169934Z",
     "shell.execute_reply": "2020-09-12T06:16:44.170524Z"
    },
    "papermill": {
     "duration": 0.123397,
     "end_time": "2020-09-12T06:16:44.170694",
     "exception": false,
     "start_time": "2020-09-12T06:16:44.047297",
     "status": "completed"
    },
    "tags": []
   },
   "outputs": [
    {
     "data": {
      "text/plain": [
       "units_sold                      1.000000\n",
       "rating_three_count              0.894835\n",
       "rating_four_count               0.891761\n",
       "rating_five_count               0.876972\n",
       "rating_two_count                0.867406\n",
       "rating_one_count                0.833807\n",
       "merchant_rating_count           0.272897\n",
       "merchant_has_profile_picture    0.143529\n",
       "product_variation_inventory     0.133846\n",
       "merchant_rating                 0.122504\n",
       "badge_product_quality           0.063187\n",
       "badges_count                    0.045402\n",
       "rating                          0.039478\n",
       "tags_percentage                 0.025363\n",
       "retail_price                    0.012638\n",
       "inventory_total                 0.005608\n",
       "badge_fast_shipping            -0.000898\n",
       "badge_local_product            -0.007544\n",
       "shipping_is_express            -0.008308\n",
       "countries_shipped_to           -0.013553\n",
       "uses_ad_boosts                 -0.016055\n",
       "has_urgency_banner             -0.023891\n",
       "price                          -0.024815\n",
       "shipping_option_price          -0.030987\n",
       "Name: units_sold, dtype: float64"
      ]
     },
     "execution_count": 51,
     "metadata": {},
     "output_type": "execute_result"
    }
   ],
   "source": [
    "sales_corr['units_sold'].sort_values(ascending=False)"
   ]
  },
  {
   "cell_type": "markdown",
   "metadata": {
    "papermill": {
     "duration": 0.1039,
     "end_time": "2020-09-12T06:16:44.590879",
     "exception": false,
     "start_time": "2020-09-12T06:16:44.486979",
     "status": "completed"
    },
    "tags": []
   },
   "source": [
    "<a id='selection'></a>\n",
    "\n",
    "## Feature Selection\n",
    "\n",
    "* Checking above the correlation of all features hold with the units sold. The method for correlation is **pearson**.\n",
    "\n",
    "\n",
    "#### SelectKBest\n",
    "* Using the **SelectKBest method** to capture the best features for the model. \n",
    "\n",
    "\n",
    "* Selects features according to the k highest scores.\n",
    "\n",
    "\n",
    "\n",
    "#### Scoring Function: Mutual Info Regression\n",
    "* Scoring function used here is Mutual Info Regression.\n",
    "\n",
    "\n",
    "* Mutual Information Regression: Mutual information (MI) between two random variables is a non-negative value, which measures the dependency between the variables. It is equal to zero if and only if two random variables are independent, and higher values mean higher dependency. It can capture any type of dependency between variables.\n",
    "\n",
    "\n",
    "* The function relies on nonparametric methods based on entropy estimation from k-nearest neighbors distances. \n",
    "  "
   ]
  },
  {
   "cell_type": "code",
   "execution_count": 52,
   "metadata": {
    "execution": {
     "iopub.execute_input": "2020-09-12T06:16:44.816652Z",
     "iopub.status.busy": "2020-09-12T06:16:44.815339Z",
     "iopub.status.idle": "2020-09-12T06:16:44.819498Z",
     "shell.execute_reply": "2020-09-12T06:16:44.820165Z"
    },
    "papermill": {
     "duration": 0.123242,
     "end_time": "2020-09-12T06:16:44.820345",
     "exception": false,
     "start_time": "2020-09-12T06:16:44.697103",
     "status": "completed"
    },
    "tags": []
   },
   "outputs": [
    {
     "name": "stdout",
     "output_type": "stream",
     "text": [
      "Shape of X is (1573, 23) and that of y is (1573,)\n"
     ]
    }
   ],
   "source": [
    "# separating the independent and dependent variables\n",
    "\n",
    "y = sales['units_sold']\n",
    "X = sales.drop(labels = ['units_sold'], axis = 1)\n",
    "print(\"Shape of X is {} and that of y is {}\".format(X.shape, y.shape))"
   ]
  },
  {
   "cell_type": "code",
   "execution_count": 53,
   "metadata": {
    "execution": {
     "iopub.execute_input": "2020-09-12T06:16:45.039323Z",
     "iopub.status.busy": "2020-09-12T06:16:45.038564Z",
     "iopub.status.idle": "2020-09-12T06:16:45.184082Z",
     "shell.execute_reply": "2020-09-12T06:16:45.182978Z"
    },
    "papermill": {
     "duration": 0.256336,
     "end_time": "2020-09-12T06:16:45.184255",
     "exception": false,
     "start_time": "2020-09-12T06:16:44.927919",
     "status": "completed"
    },
    "tags": []
   },
   "outputs": [
    {
     "name": "stdout",
     "output_type": "stream",
     "text": [
      "Shape of training set  (1179, 23)\n",
      "Shape of test set  (394, 23)\n"
     ]
    }
   ],
   "source": [
    "# Splitting the dataset \n",
    "\n",
    "from sklearn.model_selection import train_test_split\n",
    "\n",
    "X_train, X_test, y_train, y_test = train_test_split(X, y, test_size=0.25, random_state=1)\n",
    "\n",
    "print('Shape of training set ', X_train.shape)\n",
    "print('Shape of test set ', X_test.shape)"
   ]
  },
  {
   "cell_type": "code",
   "execution_count": 54,
   "metadata": {
    "execution": {
     "iopub.execute_input": "2020-09-12T06:16:45.829125Z",
     "iopub.status.busy": "2020-09-12T06:16:45.828147Z",
     "iopub.status.idle": "2020-09-12T06:16:46.022564Z",
     "shell.execute_reply": "2020-09-12T06:16:46.023155Z"
    },
    "papermill": {
     "duration": 0.310189,
     "end_time": "2020-09-12T06:16:46.023336",
     "exception": false,
     "start_time": "2020-09-12T06:16:45.713147",
     "status": "completed"
    },
    "tags": []
   },
   "outputs": [],
   "source": [
    "from sklearn.feature_selection import SelectKBest\n",
    "from sklearn.feature_selection import mutual_info_regression\n",
    "\n",
    "# feature selection\n",
    "def select_features(X_train, y_train, X_test):\n",
    "    # configure to select all features\n",
    "    fs = SelectKBest(score_func=mutual_info_regression, k='all')\n",
    "    # learn relationship from training data\n",
    "    fs.fit(X_train, y_train)\n",
    "    # transform train input data\n",
    "    X_train_fs = fs.transform(X_train)\n",
    "    # transform test input data\n",
    "    X_test_fs = fs.transform(X_test)\n",
    "    return X_train_fs, X_test_fs, fs\n",
    " "
   ]
  },
  {
   "cell_type": "code",
   "execution_count": 55,
   "metadata": {
    "execution": {
     "iopub.execute_input": "2020-09-12T06:16:46.247994Z",
     "iopub.status.busy": "2020-09-12T06:16:46.247130Z",
     "iopub.status.idle": "2020-09-12T06:16:46.943117Z",
     "shell.execute_reply": "2020-09-12T06:16:46.942287Z"
    },
    "papermill": {
     "duration": 0.813409,
     "end_time": "2020-09-12T06:16:46.943258",
     "exception": false,
     "start_time": "2020-09-12T06:16:46.129849",
     "status": "completed"
    },
    "tags": []
   },
   "outputs": [
    {
     "data": {
      "image/png": "[encoded data removed]",
      "text/plain": [
       "<Figure size 432x288 with 1 Axes>"
      ]
     },
     "metadata": {
      "needs_background": "light"
     },
     "output_type": "display_data"
    }
   ],
   "source": [
    "X_train_fs, X_test_fs, fs = select_features(X_train, y_train, X_test)\n",
    "\n",
    "plt.bar([i for i in range(len(fs.scores_))], fs.scores_)\n",
    "plt.tick_params(color='black', labelcolor='black')\n",
    "plt.xlabel('Features', color='black')\n",
    "plt.ylabel('Score of Features', color='black')\n",
    "plt.show()"
   ]
  },
  {
   "cell_type": "code",
   "execution_count": 56,
   "metadata": {
    "execution": {
     "iopub.execute_input": "2020-09-12T06:16:47.380817Z",
     "iopub.status.busy": "2020-09-12T06:16:47.379886Z",
     "iopub.status.idle": "2020-09-12T06:16:47.383601Z",
     "shell.execute_reply": "2020-09-12T06:16:47.382838Z"
    },
    "papermill": {
     "duration": 0.118145,
     "end_time": "2020-09-12T06:16:47.383734",
     "exception": false,
     "start_time": "2020-09-12T06:16:47.265589",
     "status": "completed"
    },
    "tags": []
   },
   "outputs": [],
   "source": [
    "# Selecting the best 8 features for model\n",
    "\n",
    "def select_features(X_train, y_train, X_test):\n",
    "    # configure to select all features\n",
    "    fs = SelectKBest(score_func=mutual_info_regression, k=8)\n",
    "    # learn relationship from training data\n",
    "    fs.fit(X_train, y_train)\n",
    "    # transform train input data\n",
    "    X_train_fs = fs.transform(X_train)\n",
    "    # transform test input data\n",
    "    X_test_fs = fs.transform(X_test)\n",
    "    return X_train_fs, X_test_fs, fs"
   ]
  },
  {
   "cell_type": "code",
   "execution_count": 57,
   "metadata": {
    "execution": {
     "iopub.execute_input": "2020-09-12T06:16:47.605047Z",
     "iopub.status.busy": "2020-09-12T06:16:47.604217Z",
     "iopub.status.idle": "2020-09-12T06:16:48.118310Z",
     "shell.execute_reply": "2020-09-12T06:16:48.117611Z"
    },
    "papermill": {
     "duration": 0.628374,
     "end_time": "2020-09-12T06:16:48.118451",
     "exception": false,
     "start_time": "2020-09-12T06:16:47.490077",
     "status": "completed"
    },
    "tags": []
   },
   "outputs": [
    {
     "name": "stdout",
     "output_type": "stream",
     "text": [
      "Shape of Training set with the best features:  (1179, 8)\n"
     ]
    }
   ],
   "source": [
    "# Selecting features\n",
    "\n",
    "X_train_fs, X_test_fs, fs = select_features(X_train, y_train, X_test)\n",
    "\n",
    "print('Shape of Training set with the best features: ', X_train_fs.shape)"
   ]
  },
  {
   "cell_type": "code",
   "execution_count": 58,
   "metadata": {
    "execution": {
     "iopub.execute_input": "2020-09-12T06:16:48.344207Z",
     "iopub.status.busy": "2020-09-12T06:16:48.343028Z",
     "iopub.status.idle": "2020-09-12T06:16:48.349430Z",
     "shell.execute_reply": "2020-09-12T06:16:48.348505Z"
    },
    "papermill": {
     "duration": 0.123811,
     "end_time": "2020-09-12T06:16:48.349628",
     "exception": false,
     "start_time": "2020-09-12T06:16:48.225817",
     "status": "completed"
    },
    "scrolled": false,
    "tags": []
   },
   "outputs": [
    {
     "name": "stdout",
     "output_type": "stream",
     "text": [
      "Best columns that we are using for our model\n",
      "\n",
      "rating\n",
      "rating_five_count\n",
      "rating_four_count\n",
      "rating_three_count\n",
      "rating_two_count\n",
      "rating_one_count\n",
      "merchant_rating_count\n",
      "merchant_rating\n"
     ]
    }
   ],
   "source": [
    "a = fs.get_feature_names_out()\n",
    "\n",
    "print('Best columns that we are using for our model\\n')\n",
    "\n",
    "for i in a:\n",
    "    print(i)"
   ]
  },
  {
   "cell_type": "markdown",
   "metadata": {},
   "source": [
    "<a id='analysis'></a>\n",
    "\n",
    "## Data Analysis"
   ]
  },
  {
   "cell_type": "code",
   "execution_count": 59,
   "metadata": {},
   "outputs": [
    {
     "data": {
      "image/png": "[encoded data removed]",
      "text/plain": [
       "<Figure size 720x360 with 1 Axes>"
      ]
     },
     "metadata": {
      "needs_background": "light"
     },
     "output_type": "display_data"
    }
   ],
   "source": [
    "#units_sold Vs rating\n",
    "plt.figure(figsize=(10,5))\n",
    "x=round(sales['rating'])\n",
    "sns.barplot(data=sales, y=\"units_sold\", x=x)\n",
    "plt.xlabel('Rating')\n",
    "plt.ylabel('Units Sold')\n",
    "plt.show()"
   ]
  },
  {
   "cell_type": "code",
   "execution_count": 60,
   "metadata": {},
   "outputs": [
    {
     "data": {
      "image/png": "[encoded data removed]",
      "text/plain": [
       "<Figure size 720x360 with 1 Axes>"
      ]
     },
     "metadata": {
      "needs_background": "light"
     },
     "output_type": "display_data"
    }
   ],
   "source": [
    "#units_sold Vs rating_five_count\n",
    "plt.figure(figsize=(10,5))\n",
    "sns.lineplot(data=sales, y=\"units_sold\", x=\"rating_five_count\")\n",
    "plt.xlabel('Rating five count')\n",
    "plt.ylabel('Units Sold')\n",
    "plt.show()"
   ]
  },
  {
   "cell_type": "code",
   "execution_count": 61,
   "metadata": {},
   "outputs": [
    {
     "data": {
      "image/png": "[encoded data removed]",
      "text/plain": [
       "<Figure size 720x360 with 1 Axes>"
      ]
     },
     "metadata": {
      "needs_background": "light"
     },
     "output_type": "display_data"
    }
   ],
   "source": [
    "#units_sold Vs rating_four_count\n",
    "plt.figure(figsize=(10,5))\n",
    "sns.lineplot(data=sales, y=\"units_sold\", x=\"rating_four_count\")\n",
    "plt.xlabel('Rating five count')\n",
    "plt.ylabel('Units Sold')\n",
    "plt.show()"
   ]
  },
  {
   "cell_type": "code",
   "execution_count": 62,
   "metadata": {},
   "outputs": [
    {
     "data": {
      "image/png": "[encoded data removed]",
      "text/plain": [
       "<Figure size 720x360 with 1 Axes>"
      ]
     },
     "metadata": {
      "needs_background": "light"
     },
     "output_type": "display_data"
    }
   ],
   "source": [
    "#units_sold Vs rating_three_count\n",
    "plt.figure(figsize=(10,5))\n",
    "sns.lineplot(data=sales, y=\"units_sold\", x=\"rating_three_count\")\n",
    "plt.xlabel('Rating three count')\n",
    "plt.ylabel('Units Sold')\n",
    "plt.show()"
   ]
  },
  {
   "cell_type": "code",
   "execution_count": 63,
   "metadata": {},
   "outputs": [
    {
     "data": {
      "image/png": "[encoded data removed]",
      "text/plain": [
       "<Figure size 720x360 with 1 Axes>"
      ]
     },
     "metadata": {
      "needs_background": "light"
     },
     "output_type": "display_data"
    }
   ],
   "source": [
    "#units_sold Vs rating_two_count\n",
    "plt.figure(figsize=(10,5))\n",
    "sns.lineplot(data=sales, y=\"units_sold\", x=\"rating_two_count\")\n",
    "plt.xlabel('Rating two count')\n",
    "plt.ylabel('Units Sold')\n",
    "plt.show()"
   ]
  },
  {
   "cell_type": "code",
   "execution_count": 64,
   "metadata": {
    "scrolled": false
   },
   "outputs": [
    {
     "data": {
      "image/png": "[encoded data removed]",
      "text/plain": [
       "<Figure size 720x360 with 1 Axes>"
      ]
     },
     "metadata": {
      "needs_background": "light"
     },
     "output_type": "display_data"
    }
   ],
   "source": [
    "#units_sold Vs rating_two_count\n",
    "plt.figure(figsize=(10,5))\n",
    "sns.lineplot(data=sales, y=\"units_sold\", x=\"rating_one_count\")\n",
    "plt.xlabel('Rating one count')\n",
    "plt.ylabel('Units Sold')\n",
    "plt.show()"
   ]
  },
  {
   "cell_type": "code",
   "execution_count": 65,
   "metadata": {},
   "outputs": [
    {
     "data": {
      "image/png": "[encoded data removed]",
      "text/plain": [
       "<Figure size 720x360 with 1 Axes>"
      ]
     },
     "metadata": {
      "needs_background": "light"
     },
     "output_type": "display_data"
    }
   ],
   "source": [
    "#units_sold Vs merchant_rating\n",
    "plt.figure(figsize=(10,5))\n",
    "x=round(sales['merchant_rating'])\n",
    "sns.barplot(data=sales, y=\"units_sold\", x=x)\n",
    "plt.xlabel('Merchant Rating')\n",
    "plt.ylabel('Units Sold')\n",
    "plt.show()"
   ]
  },
  {
   "cell_type": "code",
   "execution_count": 66,
   "metadata": {},
   "outputs": [
    {
     "data": {
      "image/png": "[encoded data removed]",
      "text/plain": [
       "<Figure size 432x288 with 1 Axes>"
      ]
     },
     "metadata": {
      "needs_background": "light"
     },
     "output_type": "display_data"
    }
   ],
   "source": [
    "#units_sold Vs merchant_rating_count\n",
    "df = sales[['units_sold','merchant_rating_count']].sort_values('merchant_rating_count',ascending=False).head(5)\n",
    "merchant_rating_count_df = [df['units_sold'],df['merchant_rating_count']]\n",
    "\n",
    "fig = plt.figure()\n",
    "ax = fig.add_axes([0,0,2,1])\n",
    "X = np.arange(5)\n",
    "\n",
    "ax.bar(X + 0.00, merchant_rating_count_df[0]*100, color = 'b', width = 0.25)\n",
    "ax.bar(X + 0.25, merchant_rating_count_df[1], color = 'g', width = 0.25)\n",
    "ax.set_xticks(X)\n",
    "ax.set_xticklabels(df['units_sold'])\n",
    "ax.legend(labels=['Units sold', 'Merchant rating count'], fontsize=16)\n",
    "\n",
    "plt.xlabel(\"Units sold and Merchant rating count\", fontsize=18)\n",
    "plt.show()"
   ]
  },
  {
   "cell_type": "code",
   "execution_count": 67,
   "metadata": {},
   "outputs": [
    {
     "data": {
      "image/png": "[encoded data removed]",
      "text/plain": [
       "<Figure size 720x360 with 1 Axes>"
      ]
     },
     "metadata": {
      "needs_background": "light"
     },
     "output_type": "display_data"
    }
   ],
   "source": [
    "#units_sold Vs uses_ad_boosts\n",
    "tot_units_sold_with_ad_boosts = sales[['units_sold','uses_ad_boosts']].loc[sales[['units_sold','uses_ad_boosts']].uses_ad_boosts == 1]['units_sold'].sum()\n",
    "tot_units_sold_without_ad_boosts = sales[['units_sold','uses_ad_boosts']].loc[sales[['units_sold','uses_ad_boosts']].uses_ad_boosts == 0]['units_sold'].sum()\n",
    "\n",
    "plt.figure(figsize=(10,5))\n",
    "sns.lineplot(data=sales, y=\"units_sold\", x=\"uses_ad_boosts\")\n",
    "plt.xlabel('Uses Ad Boosts')\n",
    "plt.yticks(visible=False)\n",
    "plt.ylabel('Units Sold')\n",
    "\n",
    "plt.text(0.01, 4500, tot_units_sold_without_ad_boosts, fontsize = 12)\n",
    "plt.text(0.9, 4070, tot_units_sold_with_ad_boosts, fontsize = 12)\n",
    "plt.show()"
   ]
  },
  {
   "cell_type": "code",
   "execution_count": 68,
   "metadata": {},
   "outputs": [
    {
     "data": {
      "image/png": "[encoded data removed]",
      "text/plain": [
       "<Figure size 720x360 with 1 Axes>"
      ]
     },
     "metadata": {
      "needs_background": "light"
     },
     "output_type": "display_data"
    }
   ],
   "source": [
    "#units_sold Vs has_urgency_banner\n",
    "tot_units_sold_with_urgency_banner = sales[['units_sold','has_urgency_banner']].loc[sales[['units_sold','has_urgency_banner']].has_urgency_banner == 1]['units_sold'].sum()\n",
    "tot_units_sold_without_urgency_banner = sales[['units_sold','has_urgency_banner']].loc[sales[['units_sold','has_urgency_banner']].has_urgency_banner == 0]['units_sold'].sum()\n",
    "\n",
    "plt.figure(figsize=(10,5))\n",
    "sns.lineplot(data=sales, y=\"units_sold\", x=\"has_urgency_banner\")\n",
    "plt.xlabel('Has urgency banner')\n",
    "plt.yticks(visible=False)\n",
    "plt.ylabel('Units Sold')\n",
    "\n",
    "plt.text(0.01, 4500, tot_units_sold_without_urgency_banner, fontsize = 12)\n",
    "plt.text(0.9, 3900, tot_units_sold_with_urgency_banner, fontsize = 12)\n",
    "plt.show()"
   ]
  },
  {
   "cell_type": "markdown",
   "metadata": {
    "papermill": {
     "duration": 0.107131,
     "end_time": "2020-09-12T06:16:48.565663",
     "exception": false,
     "start_time": "2020-09-12T06:16:48.458532",
     "status": "completed"
    },
    "tags": []
   },
   "source": [
    "<a id='regmodel'></a>\n",
    "\n",
    "## Regression Models"
   ]
  },
  {
   "cell_type": "markdown",
   "metadata": {
    "papermill": {
     "duration": 0.106842,
     "end_time": "2020-09-12T06:16:48.779582",
     "exception": false,
     "start_time": "2020-09-12T06:16:48.672740",
     "status": "completed"
    },
    "tags": []
   },
   "source": [
    "1. Linear Regression\n",
    "2. Polynomial Regression\n",
    "3. Support Vector Regression\n",
    "4. Decision Forest Regression\n",
    "5. Random Forest Regression"
   ]
  },
  {
   "cell_type": "code",
   "execution_count": 69,
   "metadata": {
    "execution": {
     "iopub.execute_input": "2020-09-12T06:16:49.028573Z",
     "iopub.status.busy": "2020-09-12T06:16:49.027178Z",
     "iopub.status.idle": "2020-09-12T06:16:49.091190Z",
     "shell.execute_reply": "2020-09-12T06:16:49.090508Z"
    },
    "papermill": {
     "duration": 0.199624,
     "end_time": "2020-09-12T06:16:49.091321",
     "exception": false,
     "start_time": "2020-09-12T06:16:48.891697",
     "status": "completed"
    },
    "tags": []
   },
   "outputs": [],
   "source": [
    "# Importing models\n",
    "from sklearn.linear_model import LinearRegression\n",
    "from sklearn.svm import SVR\n",
    "from sklearn.tree import DecisionTreeRegressor\n",
    "from sklearn.ensemble import RandomForestRegressor\n",
    "\n",
    "# Regression Metrics\n",
    "from sklearn.metrics import mean_absolute_error\n",
    "from sklearn.metrics import mean_squared_error\n",
    "from sklearn.metrics import r2_score\n",
    "\n",
    "# Cross validation\n",
    "from sklearn.model_selection import cross_val_score"
   ]
  },
  {
   "cell_type": "code",
   "execution_count": 70,
   "metadata": {
    "execution": {
     "iopub.execute_input": "2020-09-12T06:16:49.320799Z",
     "iopub.status.busy": "2020-09-12T06:16:49.319968Z",
     "iopub.status.idle": "2020-09-12T06:16:49.324018Z",
     "shell.execute_reply": "2020-09-12T06:16:49.323293Z"
    },
    "papermill": {
     "duration": 0.123513,
     "end_time": "2020-09-12T06:16:49.324157",
     "exception": false,
     "start_time": "2020-09-12T06:16:49.200644",
     "status": "completed"
    },
    "tags": []
   },
   "outputs": [],
   "source": [
    "regressors = [LinearRegression(),\n",
    "             DecisionTreeRegressor(random_state=1),\n",
    "             RandomForestRegressor(n_estimators = 10, random_state=1)]\n",
    "\n",
    "df = pd.DataFrame(columns = ['Name', 'Train Score', 'Test Score', 'Mean Absolute Error', 'Mean Squared Error', \n",
    "                             'Cross Validation Score (Mean Accuracy)', 'R2 Score'])"
   ]
  },
  {
   "cell_type": "code",
   "execution_count": 71,
   "metadata": {
    "execution": {
     "iopub.execute_input": "2020-09-12T06:16:49.576306Z",
     "iopub.status.busy": "2020-09-12T06:16:49.563712Z",
     "iopub.status.idle": "2020-09-12T06:16:50.448512Z",
     "shell.execute_reply": "2020-09-12T06:16:50.447791Z"
    },
    "papermill": {
     "duration": 1.00608,
     "end_time": "2020-09-12T06:16:50.448651",
     "exception": false,
     "start_time": "2020-09-12T06:16:49.442571",
     "status": "completed"
    },
    "tags": []
   },
   "outputs": [],
   "source": [
    "for regressor in regressors:\n",
    "    regressor.fit(X_train_fs, y_train)\n",
    "    y_pred = regressor.predict(X_test_fs)\n",
    "    \n",
    "    # print classifier name\n",
    "    s = str(type(regressor)).split('.')[-1][:-2]\n",
    "    \n",
    "    # Train Score\n",
    "    train = regressor.score(X_train_fs, y_train)\n",
    "    \n",
    "    # Test Score\n",
    "    test = regressor.score(X_test_fs, y_test)\n",
    "    \n",
    "    # MAE score\n",
    "    mae = mean_absolute_error(y_test, y_pred)\n",
    "    \n",
    "    # MSE Score\n",
    "    mse = mean_squared_error(y_test, y_pred)\n",
    "    \n",
    "    accuracy = cross_val_score(estimator = regressor, X = X_train_fs, y = y_train, cv=10)\n",
    "    cv = accuracy.mean()*100\n",
    "    \n",
    "    r2 = r2_score(y_test, y_pred)\n",
    "    \n",
    "    df = df.append({'Name': s, 'Train Score': train, 'Test Score': test, 'Mean Absolute Error': mae, \n",
    "                    'Mean Squared Error': mse, 'Cross Validation Score (Mean Accuracy)': cv,\n",
    "                   'R2 Score': r2},\n",
    "                  ignore_index=True)"
   ]
  },
  {
   "cell_type": "code",
   "execution_count": 72,
   "metadata": {
    "execution": {
     "iopub.execute_input": "2020-09-12T06:16:50.684866Z",
     "iopub.status.busy": "2020-09-12T06:16:50.683677Z",
     "iopub.status.idle": "2020-09-12T06:16:50.688360Z",
     "shell.execute_reply": "2020-09-12T06:16:50.687632Z"
    },
    "papermill": {
     "duration": 0.130554,
     "end_time": "2020-09-12T06:16:50.688505",
     "exception": false,
     "start_time": "2020-09-12T06:16:50.557951",
     "status": "completed"
    },
    "tags": []
   },
   "outputs": [
    {
     "data": {
      "text/html": [
       "<div>\n",
       "<style scoped>\n",
       "    .dataframe tbody tr th:only-of-type {\n",
       "        vertical-align: middle;\n",
       "    }\n",
       "\n",
       "    .dataframe tbody tr th {\n",
       "        vertical-align: top;\n",
       "    }\n",
       "\n",
       "    .dataframe thead th {\n",
       "        text-align: right;\n",
       "    }\n",
       "</style>\n",
       "<table border=\"1\" class=\"dataframe\">\n",
       "  <thead>\n",
       "    <tr style=\"text-align: right;\">\n",
       "      <th></th>\n",
       "      <th>Name</th>\n",
       "      <th>Train Score</th>\n",
       "      <th>Test Score</th>\n",
       "      <th>Mean Absolute Error</th>\n",
       "      <th>Mean Squared Error</th>\n",
       "      <th>Cross Validation Score (Mean Accuracy)</th>\n",
       "      <th>R2 Score</th>\n",
       "    </tr>\n",
       "  </thead>\n",
       "  <tbody>\n",
       "    <tr>\n",
       "      <th>0</th>\n",
       "      <td>LinearRegression</td>\n",
       "      <td>0.815661</td>\n",
       "      <td>0.828781</td>\n",
       "      <td>1588.205844</td>\n",
       "      <td>8891266.650267</td>\n",
       "      <td>71.955947</td>\n",
       "      <td>0.828781</td>\n",
       "    </tr>\n",
       "    <tr>\n",
       "      <th>1</th>\n",
       "      <td>DecisionTreeRegressor</td>\n",
       "      <td>1.0</td>\n",
       "      <td>0.479628</td>\n",
       "      <td>1529.406091</td>\n",
       "      <td>27022509.482234</td>\n",
       "      <td>64.775637</td>\n",
       "      <td>0.479628</td>\n",
       "    </tr>\n",
       "    <tr>\n",
       "      <th>2</th>\n",
       "      <td>RandomForestRegressor</td>\n",
       "      <td>0.974564</td>\n",
       "      <td>0.824763</td>\n",
       "      <td>1311.001523</td>\n",
       "      <td>9099893.234416</td>\n",
       "      <td>74.832188</td>\n",
       "      <td>0.824763</td>\n",
       "    </tr>\n",
       "  </tbody>\n",
       "</table>\n",
       "</div>"
      ],
      "text/plain": [
       "                    Name Train Score Test Score Mean Absolute Error  \\\n",
       "0       LinearRegression    0.815661   0.828781         1588.205844   \n",
       "1  DecisionTreeRegressor         1.0   0.479628         1529.406091   \n",
       "2  RandomForestRegressor    0.974564   0.824763         1311.001523   \n",
       "\n",
       "  Mean Squared Error Cross Validation Score (Mean Accuracy)  R2 Score  \n",
       "0     8891266.650267                              71.955947  0.828781  \n",
       "1    27022509.482234                              64.775637  0.479628  \n",
       "2     9099893.234416                              74.832188  0.824763  "
      ]
     },
     "execution_count": 72,
     "metadata": {},
     "output_type": "execute_result"
    }
   ],
   "source": [
    "df"
   ]
  },
  {
   "cell_type": "code",
   "execution_count": 73,
   "metadata": {
    "execution": {
     "iopub.execute_input": "2020-09-12T06:16:50.920408Z",
     "iopub.status.busy": "2020-09-12T06:16:50.917176Z",
     "iopub.status.idle": "2020-09-12T06:16:50.986075Z",
     "shell.execute_reply": "2020-09-12T06:16:50.985229Z"
    },
    "papermill": {
     "duration": 0.187333,
     "end_time": "2020-09-12T06:16:50.986224",
     "exception": false,
     "start_time": "2020-09-12T06:16:50.798891",
     "status": "completed"
    },
    "tags": []
   },
   "outputs": [],
   "source": [
    "# Making Polynomial Features\n",
    "from sklearn.preprocessing import PolynomialFeatures\n",
    "\n",
    "poly_reg = PolynomialFeatures(degree = 3)\n",
    "X_train_poly = poly_reg.fit_transform(X_train_fs)\n",
    "X_test_poly = poly_reg.fit_transform(X_test_fs)\n",
    "\n",
    "# Fitt PolyReg to training set\n",
    "regressor = LinearRegression()\n",
    "regressor.fit(X_train_poly, y_train)\n",
    "\n",
    "# Predicting test values\n",
    "y_pred = regressor.predict(X_test_poly)\n",
    "\n",
    "df = df.append({'Name': str(type(regressor)).split('.')[-1][:-2] + ' (Poly)', \n",
    "                'Train Score': regressor.score(X_train_poly, y_train), \n",
    "                'Test Score': regressor.score(X_test_poly, y_test), \n",
    "                'Mean Absolute Error': mean_absolute_error(y_test, y_pred), \n",
    "                'Mean Squared Error': mean_squared_error(y_test, y_pred), \n",
    "                'Cross Validation Score (Mean Accuracy)': cross_val_score(estimator = regressor, X = X_train_fs, y = y_train, cv=10).mean()*100,\n",
    "                'R2 Score': r2_score(y_test, y_pred)},\n",
    "                  ignore_index=True)"
   ]
  },
  {
   "cell_type": "code",
   "execution_count": 74,
   "metadata": {
    "execution": {
     "iopub.execute_input": "2020-09-12T06:16:51.226119Z",
     "iopub.status.busy": "2020-09-12T06:16:51.224840Z",
     "iopub.status.idle": "2020-09-12T06:16:52.331422Z",
     "shell.execute_reply": "2020-09-12T06:16:52.330523Z"
    },
    "papermill": {
     "duration": 1.231862,
     "end_time": "2020-09-12T06:16:52.331578",
     "exception": false,
     "start_time": "2020-09-12T06:16:51.099716",
     "status": "completed"
    },
    "tags": []
   },
   "outputs": [],
   "source": [
    "# Scaling\n",
    "from sklearn.preprocessing import StandardScaler\n",
    "\n",
    "# Applying feature scaling for this\n",
    "sc = StandardScaler()\n",
    "X_train_sc = sc.fit_transform(X_train_fs)\n",
    "X_test_sc = sc.fit_transform(X_test_fs)\n",
    "\n",
    "regressor = SVR(kernel='rbf')\n",
    "regressor.fit(X_train_sc, y_train)\n",
    "\n",
    "# Predicting test values\n",
    "y_pred = regressor.predict(X_test_sc)\n",
    "\n",
    "df = df.append({'Name': str(type(regressor)).split('.')[-1][:-2], \n",
    "                'Train Score': regressor.score(X_train_sc, y_train), \n",
    "                'Test Score': regressor.score(X_test_sc, y_test), \n",
    "                'Mean Absolute Error': mean_absolute_error(y_test, y_pred), \n",
    "                'Mean Squared Error': mean_squared_error(y_test, y_pred), \n",
    "                'Cross Validation Score (Mean Accuracy)': cross_val_score(estimator = regressor, X = X_train_sc, y = y_train, cv=10).mean()*100,\n",
    "                'R2 Score': r2_score(y_test, y_pred)},\n",
    "                  ignore_index=True)"
   ]
  },
  {
   "cell_type": "code",
   "execution_count": 75,
   "metadata": {
    "execution": {
     "iopub.execute_input": "2020-09-12T06:16:52.579019Z",
     "iopub.status.busy": "2020-09-12T06:16:52.577837Z",
     "iopub.status.idle": "2020-09-12T06:16:52.584502Z",
     "shell.execute_reply": "2020-09-12T06:16:52.585119Z"
    },
    "papermill": {
     "duration": 0.141528,
     "end_time": "2020-09-12T06:16:52.585355",
     "exception": false,
     "start_time": "2020-09-12T06:16:52.443827",
     "status": "completed"
    },
    "tags": []
   },
   "outputs": [
    {
     "data": {
      "text/html": [
       "<div>\n",
       "<style scoped>\n",
       "    .dataframe tbody tr th:only-of-type {\n",
       "        vertical-align: middle;\n",
       "    }\n",
       "\n",
       "    .dataframe tbody tr th {\n",
       "        vertical-align: top;\n",
       "    }\n",
       "\n",
       "    .dataframe thead th {\n",
       "        text-align: right;\n",
       "    }\n",
       "</style>\n",
       "<table border=\"1\" class=\"dataframe\">\n",
       "  <thead>\n",
       "    <tr style=\"text-align: right;\">\n",
       "      <th></th>\n",
       "      <th>Name</th>\n",
       "      <th>Train Score</th>\n",
       "      <th>Test Score</th>\n",
       "      <th>Mean Absolute Error</th>\n",
       "      <th>Mean Squared Error</th>\n",
       "      <th>Cross Validation Score (Mean Accuracy)</th>\n",
       "      <th>R2 Score</th>\n",
       "    </tr>\n",
       "  </thead>\n",
       "  <tbody>\n",
       "    <tr>\n",
       "      <th>0</th>\n",
       "      <td>LinearRegression</td>\n",
       "      <td>0.815661</td>\n",
       "      <td>0.828781</td>\n",
       "      <td>1588.205844</td>\n",
       "      <td>8891266.650267</td>\n",
       "      <td>71.955947</td>\n",
       "      <td>0.828781</td>\n",
       "    </tr>\n",
       "    <tr>\n",
       "      <th>1</th>\n",
       "      <td>DecisionTreeRegressor</td>\n",
       "      <td>1.0</td>\n",
       "      <td>0.479628</td>\n",
       "      <td>1529.406091</td>\n",
       "      <td>27022509.482234</td>\n",
       "      <td>64.775637</td>\n",
       "      <td>0.479628</td>\n",
       "    </tr>\n",
       "    <tr>\n",
       "      <th>2</th>\n",
       "      <td>RandomForestRegressor</td>\n",
       "      <td>0.974564</td>\n",
       "      <td>0.824763</td>\n",
       "      <td>1311.001523</td>\n",
       "      <td>9099893.234416</td>\n",
       "      <td>74.832188</td>\n",
       "      <td>0.824763</td>\n",
       "    </tr>\n",
       "    <tr>\n",
       "      <th>3</th>\n",
       "      <td>LinearRegression (Poly)</td>\n",
       "      <td>0.940897</td>\n",
       "      <td>-3.176442</td>\n",
       "      <td>3882.206638</td>\n",
       "      <td>216879158.125377</td>\n",
       "      <td>71.955947</td>\n",
       "      <td>-3.176442</td>\n",
       "    </tr>\n",
       "    <tr>\n",
       "      <th>4</th>\n",
       "      <td>SVR</td>\n",
       "      <td>-0.117289</td>\n",
       "      <td>-0.14827</td>\n",
       "      <td>3639.465606</td>\n",
       "      <td>59628687.558016</td>\n",
       "      <td>-14.70638</td>\n",
       "      <td>-0.14827</td>\n",
       "    </tr>\n",
       "  </tbody>\n",
       "</table>\n",
       "</div>"
      ],
      "text/plain": [
       "                      Name Train Score Test Score Mean Absolute Error  \\\n",
       "0         LinearRegression    0.815661   0.828781         1588.205844   \n",
       "1    DecisionTreeRegressor         1.0   0.479628         1529.406091   \n",
       "2    RandomForestRegressor    0.974564   0.824763         1311.001523   \n",
       "3  LinearRegression (Poly)    0.940897  -3.176442         3882.206638   \n",
       "4                      SVR   -0.117289   -0.14827         3639.465606   \n",
       "\n",
       "  Mean Squared Error Cross Validation Score (Mean Accuracy)  R2 Score  \n",
       "0     8891266.650267                              71.955947  0.828781  \n",
       "1    27022509.482234                              64.775637  0.479628  \n",
       "2     9099893.234416                              74.832188  0.824763  \n",
       "3   216879158.125377                              71.955947 -3.176442  \n",
       "4    59628687.558016                              -14.70638  -0.14827  "
      ]
     },
     "execution_count": 75,
     "metadata": {},
     "output_type": "execute_result"
    }
   ],
   "source": [
    "df"
   ]
  },
  {
   "cell_type": "markdown",
   "metadata": {
    "papermill": {
     "duration": 0.117422,
     "end_time": "2020-09-12T06:16:52.819188",
     "exception": false,
     "start_time": "2020-09-12T06:16:52.701766",
     "status": "completed"
    },
    "tags": []
   },
   "source": [
    "<a id='gridsearch'></a>\n",
    "\n",
    "## GridSearchCV\n",
    "\n",
    "* Performing GridSearch on Random Forest Regression that has already given best results."
   ]
  },
  {
   "cell_type": "code",
   "execution_count": 76,
   "metadata": {
    "execution": {
     "iopub.execute_input": "2020-09-12T06:16:53.061046Z",
     "iopub.status.busy": "2020-09-12T06:16:53.060255Z",
     "iopub.status.idle": "2020-09-12T06:16:53.063129Z",
     "shell.execute_reply": "2020-09-12T06:16:53.063784Z"
    },
    "papermill": {
     "duration": 0.128247,
     "end_time": "2020-09-12T06:16:53.063957",
     "exception": false,
     "start_time": "2020-09-12T06:16:52.935710",
     "status": "completed"
    },
    "tags": []
   },
   "outputs": [],
   "source": [
    "from sklearn.model_selection import GridSearchCV\n",
    "\n",
    "reg = RandomForestRegressor(random_state=1)\n",
    "\n",
    "param_grid = { \n",
    "    'n_estimators': np.arange(4, 30, 2),\n",
    "    'max_depth' : [4,5,6,7,8],\n",
    "}"
   ]
  },
  {
   "cell_type": "code",
   "execution_count": 77,
   "metadata": {
    "execution": {
     "iopub.execute_input": "2020-09-12T06:16:53.299823Z",
     "iopub.status.busy": "2020-09-12T06:16:53.298602Z",
     "iopub.status.idle": "2020-09-12T06:17:16.040265Z",
     "shell.execute_reply": "2020-09-12T06:17:16.039489Z"
    },
    "papermill": {
     "duration": 22.863206,
     "end_time": "2020-09-12T06:17:16.040401",
     "exception": false,
     "start_time": "2020-09-12T06:16:53.177195",
     "status": "completed"
    },
    "tags": []
   },
   "outputs": [
    {
     "data": {
      "text/html": [
       "<style>#sk-container-id-1 {color: black;background-color: white;}#sk-container-id-1 pre{padding: 0;}#sk-container-id-1 div.sk-toggleable {background-color: white;}#sk-container-id-1 label.sk-toggleable__label {cursor: pointer;display: block;width: 100%;margin-bottom: 0;padding: 0.3em;box-sizing: border-box;text-align: center;}#sk-container-id-1 label.sk-toggleable__label-arrow:before {content: \"▸\";float: left;margin-right: 0.25em;color: #696969;}#sk-container-id-1 label.sk-toggleable__label-arrow:hover:before {color: black;}#sk-container-id-1 div.sk-estimator:hover label.sk-toggleable__label-arrow:before {color: black;}#sk-container-id-1 div.sk-toggleable__content {max-height: 0;max-width: 0;overflow: hidden;text-align: left;background-color: #f0f8ff;}#sk-container-id-1 div.sk-toggleable__content pre {margin: 0.2em;color: black;border-radius: 0.25em;background-color: #f0f8ff;}#sk-container-id-1 input.sk-toggleable__control:checked~div.sk-toggleable__content {max-height: 200px;max-width: 100%;overflow: auto;}#sk-container-id-1 input.sk-toggleable__control:checked~label.sk-toggleable__label-arrow:before {content: \"▾\";}#sk-container-id-1 div.sk-estimator input.sk-toggleable__control:checked~label.sk-toggleable__label {background-color: #d4ebff;}#sk-container-id-1 div.sk-label input.sk-toggleable__control:checked~label.sk-toggleable__label {background-color: #d4ebff;}#sk-container-id-1 input.sk-hidden--visually {border: 0;clip: rect(1px 1px 1px 1px);clip: rect(1px, 1px, 1px, 1px);height: 1px;margin: -1px;overflow: hidden;padding: 0;position: absolute;width: 1px;}#sk-container-id-1 div.sk-estimator {font-family: monospace;background-color: #f0f8ff;border: 1px dotted black;border-radius: 0.25em;box-sizing: border-box;margin-bottom: 0.5em;}#sk-container-id-1 div.sk-estimator:hover {background-color: #d4ebff;}#sk-container-id-1 div.sk-parallel-item::after {content: \"\";width: 100%;border-bottom: 1px solid gray;flex-grow: 1;}#sk-container-id-1 div.sk-label:hover label.sk-toggleable__label {background-color: #d4ebff;}#sk-container-id-1 div.sk-serial::before {content: \"\";position: absolute;border-left: 1px solid gray;box-sizing: border-box;top: 0;bottom: 0;left: 50%;z-index: 0;}#sk-container-id-1 div.sk-serial {display: flex;flex-direction: column;align-items: center;background-color: white;padding-right: 0.2em;padding-left: 0.2em;position: relative;}#sk-container-id-1 div.sk-item {position: relative;z-index: 1;}#sk-container-id-1 div.sk-parallel {display: flex;align-items: stretch;justify-content: center;background-color: white;position: relative;}#sk-container-id-1 div.sk-item::before, #sk-container-id-1 div.sk-parallel-item::before {content: \"\";position: absolute;border-left: 1px solid gray;box-sizing: border-box;top: 0;bottom: 0;left: 50%;z-index: -1;}#sk-container-id-1 div.sk-parallel-item {display: flex;flex-direction: column;z-index: 1;position: relative;background-color: white;}#sk-container-id-1 div.sk-parallel-item:first-child::after {align-self: flex-end;width: 50%;}#sk-container-id-1 div.sk-parallel-item:last-child::after {align-self: flex-start;width: 50%;}#sk-container-id-1 div.sk-parallel-item:only-child::after {width: 0;}#sk-container-id-1 div.sk-dashed-wrapped {border: 1px dashed gray;margin: 0 0.4em 0.5em 0.4em;box-sizing: border-box;padding-bottom: 0.4em;background-color: white;}#sk-container-id-1 div.sk-label label {font-family: monospace;font-weight: bold;display: inline-block;line-height: 1.2em;}#sk-container-id-1 div.sk-label-container {text-align: center;}#sk-container-id-1 div.sk-container {/* jupyter's `normalize.less` sets `[hidden] { display: none; }` but bootstrap.min.css set `[hidden] { display: none !important; }` so we also need the `!important` here to be able to override the default hidden behavior on the sphinx rendered scikit-learn.org. See: https://github.com/scikit-learn/scikit-learn/issues/21755 */display: inline-block !important;position: relative;}#sk-container-id-1 div.sk-text-repr-fallback {display: none;}</style><div id=\"sk-container-id-1\" class=\"sk-top-container\"><div class=\"sk-text-repr-fallback\"><pre>GridSearchCV(cv=5, estimator=RandomForestRegressor(random_state=1),\n",
       "             param_grid={&#x27;max_depth&#x27;: [4, 5, 6, 7, 8],\n",
       "                         &#x27;n_estimators&#x27;: array([ 4,  6,  8, 10, 12, 14, 16, 18, 20, 22, 24, 26, 28])})</pre><b>In a Jupyter environment, please rerun this cell to show the HTML representation or trust the notebook. <br />On GitHub, the HTML representation is unable to render, please try loading this page with nbviewer.org.</b></div><div class=\"sk-container\" hidden><div class=\"sk-item sk-dashed-wrapped\"><div class=\"sk-label-container\"><div class=\"sk-label sk-toggleable\"><input class=\"sk-toggleable__control sk-hidden--visually\" id=\"sk-estimator-id-1\" type=\"checkbox\" ><label for=\"sk-estimator-id-1\" class=\"sk-toggleable__label sk-toggleable__label-arrow\">GridSearchCV</label><div class=\"sk-toggleable__content\"><pre>GridSearchCV(cv=5, estimator=RandomForestRegressor(random_state=1),\n",
       "             param_grid={&#x27;max_depth&#x27;: [4, 5, 6, 7, 8],\n",
       "                         &#x27;n_estimators&#x27;: array([ 4,  6,  8, 10, 12, 14, 16, 18, 20, 22, 24, 26, 28])})</pre></div></div></div><div class=\"sk-parallel\"><div class=\"sk-parallel-item\"><div class=\"sk-item\"><div class=\"sk-label-container\"><div class=\"sk-label sk-toggleable\"><input class=\"sk-toggleable__control sk-hidden--visually\" id=\"sk-estimator-id-2\" type=\"checkbox\" ><label for=\"sk-estimator-id-2\" class=\"sk-toggleable__label sk-toggleable__label-arrow\">estimator: RandomForestRegressor</label><div class=\"sk-toggleable__content\"><pre>RandomForestRegressor(random_state=1)</pre></div></div></div><div class=\"sk-serial\"><div class=\"sk-item\"><div class=\"sk-estimator sk-toggleable\"><input class=\"sk-toggleable__control sk-hidden--visually\" id=\"sk-estimator-id-3\" type=\"checkbox\" ><label for=\"sk-estimator-id-3\" class=\"sk-toggleable__label sk-toggleable__label-arrow\">RandomForestRegressor</label><div class=\"sk-toggleable__content\"><pre>RandomForestRegressor(random_state=1)</pre></div></div></div></div></div></div></div></div></div></div>"
      ],
      "text/plain": [
       "GridSearchCV(cv=5, estimator=RandomForestRegressor(random_state=1),\n",
       "             param_grid={'max_depth': [4, 5, 6, 7, 8],\n",
       "                         'n_estimators': array([ 4,  6,  8, 10, 12, 14, 16, 18, 20, 22, 24, 26, 28])})"
      ]
     },
     "execution_count": 77,
     "metadata": {},
     "output_type": "execute_result"
    }
   ],
   "source": [
    "CV_reg = GridSearchCV(estimator=reg, param_grid=param_grid, cv= 5)\n",
    "CV_reg.fit(X_train_fs, y_train)"
   ]
  },
  {
   "cell_type": "code",
   "execution_count": 78,
   "metadata": {
    "execution": {
     "iopub.execute_input": "2020-09-12T06:17:16.275708Z",
     "iopub.status.busy": "2020-09-12T06:17:16.274571Z",
     "iopub.status.idle": "2020-09-12T06:17:16.279142Z",
     "shell.execute_reply": "2020-09-12T06:17:16.278448Z"
    },
    "papermill": {
     "duration": 0.12284,
     "end_time": "2020-09-12T06:17:16.279278",
     "exception": false,
     "start_time": "2020-09-12T06:17:16.156438",
     "status": "completed"
    },
    "tags": []
   },
   "outputs": [
    {
     "data": {
      "text/plain": [
       "{'max_depth': 4, 'n_estimators': 18}"
      ]
     },
     "execution_count": 78,
     "metadata": {},
     "output_type": "execute_result"
    }
   ],
   "source": [
    "CV_reg.best_params_"
   ]
  },
  {
   "cell_type": "markdown",
   "metadata": {
    "papermill": {
     "duration": 0.113016,
     "end_time": "2020-09-12T06:17:16.507390",
     "exception": false,
     "start_time": "2020-09-12T06:17:16.394374",
     "status": "completed"
    },
    "tags": []
   },
   "source": [
    "We will now check the results from the regressor with the best results."
   ]
  },
  {
   "cell_type": "code",
   "execution_count": 79,
   "metadata": {
    "execution": {
     "iopub.execute_input": "2020-09-12T06:17:16.761631Z",
     "iopub.status.busy": "2020-09-12T06:17:16.745184Z",
     "iopub.status.idle": "2020-09-12T06:17:17.517182Z",
     "shell.execute_reply": "2020-09-12T06:17:17.516298Z"
    },
    "papermill": {
     "duration": 0.892424,
     "end_time": "2020-09-12T06:17:17.517332",
     "exception": false,
     "start_time": "2020-09-12T06:17:16.624908",
     "status": "completed"
    },
    "tags": []
   },
   "outputs": [],
   "source": [
    "regressor = RandomForestRegressor(n_estimators=18, random_state=1, max_depth=4)\n",
    "\n",
    "regressor.fit(X_train_fs, y_train)\n",
    "\n",
    "# Predicting test values\n",
    "y_pred = regressor.predict(X_test_fs)\n",
    "\n",
    "df = df.append({'Name': str(type(regressor)).split('.')[-1][:-2] + ' (after GridSearchCV)', \n",
    "                'Train Score': regressor.score(X_train_fs, y_train), \n",
    "                'Test Score': regressor.score(X_test_fs, y_test), \n",
    "                'Mean Absolute Error': mean_absolute_error(y_test, y_pred), \n",
    "                'Mean Squared Error': mean_squared_error(y_test, y_pred), \n",
    "                'Cross Validation Score (Mean Accuracy)': cross_val_score(estimator = regressor, X = X_train_fs, y = y_train, cv=10).mean()*100,\n",
    "                'R2 Score': r2_score(y_test, y_pred)},\n",
    "                  ignore_index=True)"
   ]
  },
  {
   "cell_type": "markdown",
   "metadata": {
    "papermill": {
     "duration": 0.114603,
     "end_time": "2020-09-12T06:17:17.745137",
     "exception": false,
     "start_time": "2020-09-12T06:17:17.630534",
     "status": "completed"
    },
    "tags": []
   },
   "source": [
    "<a id='finalmodel'></a>\n",
    "\n",
    "## Final Model: Model Boosting\n",
    "\n",
    "**MODEL BOOSTING:** Using VotingRegressor to boost our results. \n",
    "\n",
    "A **voting regressor** is an ensemble meta-estimator that fits several base regressors, each on the whole dataset. Then it averages the individual predictions to form a final prediction. \n",
    "\n",
    "The voting regressor uses *linear regressor* and the best possible *random forest regressor* to give predictions."
   ]
  },
  {
   "cell_type": "code",
   "execution_count": 80,
   "metadata": {
    "execution": {
     "iopub.execute_input": "2020-09-12T06:17:17.984807Z",
     "iopub.status.busy": "2020-09-12T06:17:17.980553Z",
     "iopub.status.idle": "2020-09-12T06:17:18.902458Z",
     "shell.execute_reply": "2020-09-12T06:17:18.903147Z"
    },
    "papermill": {
     "duration": 1.043658,
     "end_time": "2020-09-12T06:17:18.903364",
     "exception": false,
     "start_time": "2020-09-12T06:17:17.859706",
     "status": "completed"
    },
    "tags": []
   },
   "outputs": [],
   "source": [
    "from sklearn.ensemble import VotingRegressor\n",
    "\n",
    "regressor = VotingRegressor([('lr',LinearRegression()), ('rf', RandomForestRegressor(n_estimators=18, random_state=1, max_depth=4))])\n",
    "\n",
    "regressor.fit(X_train_fs, y_train)\n",
    "\n",
    "# Predicting test values\n",
    "y_pred = regressor.predict(X_test_fs)\n",
    "\n",
    "df = df.append({'Name': str(type(regressor)).split('.')[-1][:-2], \n",
    "                'Train Score': regressor.score(X_train_fs, y_train), \n",
    "                'Test Score': regressor.score(X_test_fs, y_test), \n",
    "                'Mean Absolute Error': mean_absolute_error(y_test, y_pred), \n",
    "                'Mean Squared Error': mean_squared_error(y_test, y_pred), \n",
    "                'Cross Validation Score (Mean Accuracy)': cross_val_score(estimator = regressor, X = X_train_fs, y = y_train, cv=10).mean()*100,\n",
    "                'R2 Score': r2_score(y_test, y_pred)},\n",
    "                  ignore_index=True)"
   ]
  },
  {
   "cell_type": "code",
   "execution_count": 81,
   "metadata": {
    "execution": {
     "iopub.execute_input": "2020-09-12T06:17:19.149529Z",
     "iopub.status.busy": "2020-09-12T06:17:19.148601Z",
     "iopub.status.idle": "2020-09-12T06:17:19.154003Z",
     "shell.execute_reply": "2020-09-12T06:17:19.153358Z"
    },
    "papermill": {
     "duration": 0.135985,
     "end_time": "2020-09-12T06:17:19.154138",
     "exception": false,
     "start_time": "2020-09-12T06:17:19.018153",
     "status": "completed"
    },
    "tags": []
   },
   "outputs": [
    {
     "data": {
      "text/html": [
       "<div>\n",
       "<style scoped>\n",
       "    .dataframe tbody tr th:only-of-type {\n",
       "        vertical-align: middle;\n",
       "    }\n",
       "\n",
       "    .dataframe tbody tr th {\n",
       "        vertical-align: top;\n",
       "    }\n",
       "\n",
       "    .dataframe thead th {\n",
       "        text-align: right;\n",
       "    }\n",
       "</style>\n",
       "<table border=\"1\" class=\"dataframe\">\n",
       "  <thead>\n",
       "    <tr style=\"text-align: right;\">\n",
       "      <th></th>\n",
       "      <th>Name</th>\n",
       "      <th>Train Score</th>\n",
       "      <th>Test Score</th>\n",
       "      <th>Mean Absolute Error</th>\n",
       "      <th>Mean Squared Error</th>\n",
       "      <th>Cross Validation Score (Mean Accuracy)</th>\n",
       "      <th>R2 Score</th>\n",
       "    </tr>\n",
       "  </thead>\n",
       "  <tbody>\n",
       "    <tr>\n",
       "      <th>0</th>\n",
       "      <td>LinearRegression</td>\n",
       "      <td>0.815661</td>\n",
       "      <td>0.828781</td>\n",
       "      <td>1588.205844</td>\n",
       "      <td>8891266.650267</td>\n",
       "      <td>71.955947</td>\n",
       "      <td>0.828781</td>\n",
       "    </tr>\n",
       "    <tr>\n",
       "      <th>1</th>\n",
       "      <td>DecisionTreeRegressor</td>\n",
       "      <td>1.0</td>\n",
       "      <td>0.479628</td>\n",
       "      <td>1529.406091</td>\n",
       "      <td>27022509.482234</td>\n",
       "      <td>64.775637</td>\n",
       "      <td>0.479628</td>\n",
       "    </tr>\n",
       "    <tr>\n",
       "      <th>2</th>\n",
       "      <td>RandomForestRegressor</td>\n",
       "      <td>0.974564</td>\n",
       "      <td>0.824763</td>\n",
       "      <td>1311.001523</td>\n",
       "      <td>9099893.234416</td>\n",
       "      <td>74.832188</td>\n",
       "      <td>0.824763</td>\n",
       "    </tr>\n",
       "    <tr>\n",
       "      <th>3</th>\n",
       "      <td>LinearRegression (Poly)</td>\n",
       "      <td>0.940897</td>\n",
       "      <td>-3.176442</td>\n",
       "      <td>3882.206638</td>\n",
       "      <td>216879158.125377</td>\n",
       "      <td>71.955947</td>\n",
       "      <td>-3.176442</td>\n",
       "    </tr>\n",
       "    <tr>\n",
       "      <th>4</th>\n",
       "      <td>SVR</td>\n",
       "      <td>-0.117289</td>\n",
       "      <td>-0.14827</td>\n",
       "      <td>3639.465606</td>\n",
       "      <td>59628687.558016</td>\n",
       "      <td>-14.70638</td>\n",
       "      <td>-0.14827</td>\n",
       "    </tr>\n",
       "    <tr>\n",
       "      <th>5</th>\n",
       "      <td>RandomForestRegressor (after GridSearchCV)</td>\n",
       "      <td>0.922982</td>\n",
       "      <td>0.769997</td>\n",
       "      <td>1385.861089</td>\n",
       "      <td>11943857.43647</td>\n",
       "      <td>76.956616</td>\n",
       "      <td>0.769997</td>\n",
       "    </tr>\n",
       "    <tr>\n",
       "      <th>6</th>\n",
       "      <td>VotingRegressor</td>\n",
       "      <td>0.888813</td>\n",
       "      <td>0.828968</td>\n",
       "      <td>1451.062478</td>\n",
       "      <td>8881543.623321</td>\n",
       "      <td>77.168112</td>\n",
       "      <td>0.828968</td>\n",
       "    </tr>\n",
       "  </tbody>\n",
       "</table>\n",
       "</div>"
      ],
      "text/plain": [
       "                                         Name Train Score Test Score  \\\n",
       "0                            LinearRegression    0.815661   0.828781   \n",
       "1                       DecisionTreeRegressor         1.0   0.479628   \n",
       "2                       RandomForestRegressor    0.974564   0.824763   \n",
       "3                     LinearRegression (Poly)    0.940897  -3.176442   \n",
       "4                                         SVR   -0.117289   -0.14827   \n",
       "5  RandomForestRegressor (after GridSearchCV)    0.922982   0.769997   \n",
       "6                             VotingRegressor    0.888813   0.828968   \n",
       "\n",
       "  Mean Absolute Error Mean Squared Error  \\\n",
       "0         1588.205844     8891266.650267   \n",
       "1         1529.406091    27022509.482234   \n",
       "2         1311.001523     9099893.234416   \n",
       "3         3882.206638   216879158.125377   \n",
       "4         3639.465606    59628687.558016   \n",
       "5         1385.861089     11943857.43647   \n",
       "6         1451.062478     8881543.623321   \n",
       "\n",
       "  Cross Validation Score (Mean Accuracy)  R2 Score  \n",
       "0                              71.955947  0.828781  \n",
       "1                              64.775637  0.479628  \n",
       "2                              74.832188  0.824763  \n",
       "3                              71.955947 -3.176442  \n",
       "4                              -14.70638  -0.14827  \n",
       "5                              76.956616  0.769997  \n",
       "6                              77.168112  0.828968  "
      ]
     },
     "execution_count": 81,
     "metadata": {},
     "output_type": "execute_result"
    }
   ],
   "source": [
    "df"
   ]
  },
  {
   "cell_type": "markdown",
   "metadata": {
    "papermill": {
     "duration": 0.113872,
     "end_time": "2020-09-12T06:17:19.381826",
     "exception": false,
     "start_time": "2020-09-12T06:17:19.267954",
     "status": "completed"
    },
    "tags": []
   },
   "source": [
    "The specifications of the most optimum model:\n",
    "\n",
    "**Voting Regressor:**\n",
    "1. Linear Regressor\n",
    "2. Random Forest Regressor (n_estimators=18, max_depth=4)\n",
    "\n",
    "**with results:**\n",
    "* Train Score: 0.88\n",
    "* Test Score: 0.83\n",
    "* MAE: 1451.06\n",
    "* MSE: 8.88e+06\n",
    "* CV Score (Mean Accuracy): 77.16\n",
    "* R2 Score: 0.83"
   ]
  },
  {
   "cell_type": "markdown",
   "metadata": {},
   "source": [
    "<a id='testing'></a>\n",
    "\n",
    "## Prediction Testing"
   ]
  },
  {
   "cell_type": "code",
   "execution_count": 82,
   "metadata": {},
   "outputs": [
    {
     "data": {
      "text/html": [
       "<div>\n",
       "<style scoped>\n",
       "    .dataframe tbody tr th:only-of-type {\n",
       "        vertical-align: middle;\n",
       "    }\n",
       "\n",
       "    .dataframe tbody tr th {\n",
       "        vertical-align: top;\n",
       "    }\n",
       "\n",
       "    .dataframe thead th {\n",
       "        text-align: right;\n",
       "    }\n",
       "</style>\n",
       "<table border=\"1\" class=\"dataframe\">\n",
       "  <thead>\n",
       "    <tr style=\"text-align: right;\">\n",
       "      <th></th>\n",
       "      <th>rating</th>\n",
       "      <th>rating_five_count</th>\n",
       "      <th>rating_four_count</th>\n",
       "      <th>rating_three_count</th>\n",
       "      <th>rating_two_count</th>\n",
       "      <th>rating_one_count</th>\n",
       "      <th>merchant_rating_count</th>\n",
       "      <th>merchant_rating</th>\n",
       "    </tr>\n",
       "  </thead>\n",
       "  <tbody>\n",
       "    <tr>\n",
       "      <th>108</th>\n",
       "      <td>4.2</td>\n",
       "      <td>66.0</td>\n",
       "      <td>13.0</td>\n",
       "      <td>18.0</td>\n",
       "      <td>3.0</td>\n",
       "      <td>7.0</td>\n",
       "      <td>247</td>\n",
       "      <td>3.94332</td>\n",
       "    </tr>\n",
       "  </tbody>\n",
       "</table>\n",
       "</div>"
      ],
      "text/plain": [
       "     rating  rating_five_count  rating_four_count  rating_three_count  \\\n",
       "108     4.2               66.0               13.0                18.0   \n",
       "\n",
       "     rating_two_count  rating_one_count  merchant_rating_count  \\\n",
       "108               3.0               7.0                    247   \n",
       "\n",
       "     merchant_rating  \n",
       "108          3.94332  "
      ]
     },
     "execution_count": 82,
     "metadata": {},
     "output_type": "execute_result"
    }
   ],
   "source": [
    "X_test.loc[[108], ['rating',\n",
    "'rating_five_count',\n",
    "'rating_four_count',\n",
    "'rating_three_count',\n",
    "'rating_two_count',\n",
    "'rating_one_count',\n",
    "'merchant_rating_count',\n",
    "'merchant_rating']]"
   ]
  },
  {
   "cell_type": "code",
   "execution_count": 83,
   "metadata": {},
   "outputs": [
    {
     "name": "stdout",
     "output_type": "stream",
     "text": [
      "1162\n"
     ]
    }
   ],
   "source": [
    "prediction = regressor.predict([[4.2,66.0,13.0,18.0,3.0,7.0, 247.0,3.94331984]])\n",
    "print(round(prediction[0]))"
   ]
  },
  {
   "cell_type": "markdown",
   "metadata": {},
   "source": [
    "Alghorithm predicted that **1161** units sold when the \n",
    "\n",
    "* Rating is 4.2\n",
    "* Rating five count is 66\n",
    "* Rating four count is 13\n",
    "* Rating three count is 18\n",
    "* Rating two count is 3\n",
    "* Rating one count is 7\n",
    "* Merchant rating count is 247\n",
    "* Merchant rating is 3.9433"
   ]
  },
  {
   "cell_type": "code",
   "execution_count": 84,
   "metadata": {},
   "outputs": [
    {
     "data": {
      "text/html": [
       "<div>\n",
       "<style scoped>\n",
       "    .dataframe tbody tr th:only-of-type {\n",
       "        vertical-align: middle;\n",
       "    }\n",
       "\n",
       "    .dataframe tbody tr th {\n",
       "        vertical-align: top;\n",
       "    }\n",
       "\n",
       "    .dataframe thead th {\n",
       "        text-align: right;\n",
       "    }\n",
       "</style>\n",
       "<table border=\"1\" class=\"dataframe\">\n",
       "  <thead>\n",
       "    <tr style=\"text-align: right;\">\n",
       "      <th></th>\n",
       "      <th>index</th>\n",
       "      <th>units_sold</th>\n",
       "    </tr>\n",
       "  </thead>\n",
       "  <tbody>\n",
       "    <tr>\n",
       "      <th>108</th>\n",
       "      <td>1032</td>\n",
       "      <td>1000</td>\n",
       "    </tr>\n",
       "  </tbody>\n",
       "</table>\n",
       "</div>"
      ],
      "text/plain": [
       "     index  units_sold\n",
       "108   1032        1000"
      ]
     },
     "execution_count": 84,
     "metadata": {},
     "output_type": "execute_result"
    }
   ],
   "source": [
    "y_test_df = y_test.to_frame().reset_index()\n",
    "y_test_df.loc[y_test_df.index == 108]"
   ]
  },
  {
   "cell_type": "markdown",
   "metadata": {},
   "source": [
    "As per the data, the units sold is 1000 which is close."
   ]
  }
 ],
 "metadata": {
  "kernelspec": {
   "display_name": "Python 3 (ipykernel)",
   "language": "python",
   "name": "python3"
  },
  "language_info": {
   "codemirror_mode": {
    "name": "ipython",
    "version": 3
   },
   "file_extension": ".py",
   "mimetype": "text/x-python",
   "name": "python",
   "nbconvert_exporter": "python",
   "pygments_lexer": "ipython3",
   "version": "3.9.12"
  },
  "papermill": {
   "duration": 61.171595,
   "end_time": "2020-09-12T06:17:20.056560",
   "environment_variables": {},
   "exception": null,
   "input_path": "__notebook__.ipynb",
   "output_path": "__notebook__.ipynb",
   "parameters": {},
   "start_time": "2020-09-12T06:16:18.884965",
   "version": "2.1.0"
  }
 },
 "nbformat": 4,
 "nbformat_minor": 4
}
